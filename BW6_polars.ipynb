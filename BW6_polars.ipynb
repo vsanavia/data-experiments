{
 "cells": [
  {
   "cell_type": "code",
   "execution_count": 2,
   "id": "d0c9efcf-61ec-4d3f-ba59-55cbd20e910f",
   "metadata": {
    "tags": []
   },
   "outputs": [
    {
     "name": "stdout",
     "output_type": "stream",
     "text": [
      "Requirement already satisfied: plotly in /home/pyuser/.venv/lib/python3.10/site-packages (5.13.1)\n",
      "Requirement already satisfied: tenacity>=6.2.0 in /home/pyuser/.venv/lib/python3.10/site-packages (from plotly) (8.2.2)\n",
      "Collecting pandas\n",
      "  Downloading pandas-1.5.3-cp310-cp310-manylinux_2_17_aarch64.manylinux2014_aarch64.whl (11.4 MB)\n",
      "\u001b[2K     \u001b[90m━━━━━━━━━━━━━━━━━━━━━━━━━━━━━━━━━━━━━━━━\u001b[0m \u001b[32m11.4/11.4 MB\u001b[0m \u001b[31m10.7 MB/s\u001b[0m eta \u001b[36m0:00:00\u001b[0m00:01\u001b[0m00:01\u001b[0m\n",
      "\u001b[?25hRequirement already satisfied: numpy>=1.21.0 in /home/pyuser/.venv/lib/python3.10/site-packages (from pandas) (1.24.2)\n",
      "Requirement already satisfied: python-dateutil>=2.8.1 in /home/pyuser/.venv/lib/python3.10/site-packages (from pandas) (2.8.2)\n",
      "Collecting pytz>=2020.1\n",
      "  Downloading pytz-2022.7.1-py2.py3-none-any.whl (499 kB)\n",
      "\u001b[2K     \u001b[90m━━━━━━━━━━━━━━━━━━━━━━━━━━━━━━━━━━━━━━\u001b[0m \u001b[32m499.4/499.4 kB\u001b[0m \u001b[31m10.7 MB/s\u001b[0m eta \u001b[36m0:00:00\u001b[0ma \u001b[36m0:00:01\u001b[0m\n",
      "\u001b[?25hRequirement already satisfied: six>=1.5 in /home/pyuser/.venv/lib/python3.10/site-packages (from python-dateutil>=2.8.1->pandas) (1.16.0)\n",
      "Installing collected packages: pytz, pandas\n",
      "Successfully installed pandas-1.5.3 pytz-2022.7.1\n"
     ]
    }
   ],
   "source": [
    "!pip install plotly\n",
    "!pip install pandas"
   ]
  },
  {
   "cell_type": "code",
   "execution_count": 4,
   "id": "67f66116-c2a2-478b-b88c-96abdf874e99",
   "metadata": {
    "tags": []
   },
   "outputs": [],
   "source": [
    "import polars as pl\n",
    "import pandas as pd\n",
    "import re\n",
    "import matplotlib as mpl\n",
    "import matplotlib.pyplot as plt\n",
    "import numpy as np\n",
    "#import plotly as px\n",
    "import plotly.express as px\n",
    "source = \"tabn322.10.xlsx\"\n",
    "#df2 = pl.read_excel(source)\n",
    "df2 = pl.read_excel(source, read_csv_options={'skip_rows':1})\n",
    "#df22 = df2.select(pl.col('Field of study'),pl.col('2019-20'))\n",
    "#df3 = pl.read_excel(source, read_csv_options={'skip_rows':1})\n",
    "df4 = pl.read_excel(source, read_csv_options={'skip_rows':1,'skip_rows_after_header':2})\n",
    "df5 = df4.slice(0,-5)\n",
    "df22 = df5[[s.name for s in df5 if not (s.null_count() == df5.height)]]\n"
   ]
  },
  {
   "cell_type": "code",
   "execution_count": 5,
   "id": "de7f54fc-df0e-4c30-80ef-576581d22474",
   "metadata": {
    "tags": []
   },
   "outputs": [
    {
     "data": {
      "text/plain": [
       "polars.internals.dataframe.frame.DataFrame"
      ]
     },
     "execution_count": 5,
     "metadata": {},
     "output_type": "execute_result"
    }
   ],
   "source": [
    "type(df22)"
   ]
  },
  {
   "cell_type": "code",
   "execution_count": 14,
   "id": "c903b33d-0578-4e8c-adeb-4e0d87ef0cbc",
   "metadata": {
    "tags": []
   },
   "outputs": [
    {
     "name": "stdout",
     "output_type": "stream",
     "text": [
      "['1970-71', '1975-76', '1980-81', '1985-86', '1990-91', '1995-96', '2000-01', '2005-06', '2010-11', '2011-12', '2012-13', '2013-14', '2014-15', '2015-16', '2016-17', '2017-18', '2018-19', '2019-20']\n"
     ]
    }
   ],
   "source": [
    "print([s.name for s in df22 if not (s.name == 'Field of study')])"
   ]
  },
  {
   "cell_type": "code",
   "execution_count": null,
   "id": "15d81bd9-032a-4540-9efd-1611a63b9eb8",
   "metadata": {},
   "outputs": [],
   "source": []
  },
  {
   "cell_type": "code",
   "execution_count": 2,
   "id": "8fbcb53d-92f2-4688-8149-f2f80ccaa693",
   "metadata": {
    "tags": []
   },
   "outputs": [
    {
     "data": {
      "text/html": [
       "<div><style>\n",
       ".dataframe > thead > tr > th,\n",
       ".dataframe > tbody > tr > td {\n",
       "  text-align: right;\n",
       "}\n",
       "</style>\n",
       "<small>shape: (33, 19)</small><table border=\"1\" class=\"dataframe\"><thead><tr><th>Field of study</th><th>1970-71</th><th>1975-76</th><th>1980-81</th><th>1985-86</th><th>1990-91</th><th>1995-96</th><th>2000-01</th><th>2005-06</th><th>2010-11</th><th>2011-12</th><th>2012-13</th><th>2013-14</th><th>2014-15</th><th>2015-16</th><th>2016-17</th><th>2017-18</th><th>2018-19</th><th>2019-20</th></tr><tr><td>str</td><td>i64</td><td>i64</td><td>i64</td><td>i64</td><td>i64</td><td>i64</td><td>i64</td><td>i64</td><td>i64</td><td>i64</td><td>i64</td><td>i64</td><td>i64</td><td>i64</td><td>i64</td><td>i64</td><td>i64</td><td>i64</td></tr></thead><tbody><tr><td>&quot;Agriculture an...</td><td>12674</td><td>19402</td><td>21886</td><td>17191</td><td>13363</td><td>21757</td><td>23766</td><td>23497</td><td>29203</td><td>31629</td><td>34304</td><td>35953</td><td>37028</td><td>37827</td><td>38782</td><td>40334</td><td>41373</td><td>41848</td></tr><tr><td>&quot;Architecture a...</td><td>5570</td><td>9146</td><td>9455</td><td>9119</td><td>9781</td><td>8352</td><td>8480</td><td>9515</td><td>9831</td><td>9727</td><td>9757</td><td>9149</td><td>9090</td><td>8825</td><td>8579</td><td>8464</td><td>8806</td><td>9045</td></tr><tr><td>&quot;Area, ethnic, ...</td><td>2579</td><td>3577</td><td>2887</td><td>3021</td><td>4776</td><td>5633</td><td>6160</td><td>7878</td><td>8955</td><td>9228</td><td>8850</td><td>8275</td><td>7783</td><td>7840</td><td>7720</td><td>7717</td><td>7733</td><td>7767</td></tr><tr><td>&quot;Biological and...</td><td>35705</td><td>54154</td><td>43078</td><td>38395</td><td>39482</td><td>61014</td><td>60576</td><td>70602</td><td>89984</td><td>95850</td><td>100397</td><td>104657</td><td>109904</td><td>113794</td><td>116768</td><td>118661</td><td>121233</td><td>126590</td></tr><tr><td>&quot;Business&quot;</td><td>115396</td><td>143171</td><td>200521</td><td>236700</td><td>249165</td><td>226623</td><td>263515</td><td>318043</td><td>365133</td><td>367235</td><td>360887</td><td>358132</td><td>363741</td><td>371690</td><td>381109</td><td>386240</td><td>390490</td><td>387851</td></tr><tr><td>&quot;Communication,...</td><td>10324</td><td>20045</td><td>29428</td><td>41666</td><td>51650</td><td>47320</td><td>58013</td><td>73658</td><td>83231</td><td>83771</td><td>84818</td><td>87612</td><td>90658</td><td>92551</td><td>93794</td><td>92289</td><td>92528</td><td>91752</td></tr><tr><td>&quot;Communications...</td><td>478</td><td>1237</td><td>1854</td><td>1479</td><td>1397</td><td>853</td><td>1178</td><td>2987</td><td>4858</td><td>4983</td><td>4987</td><td>4991</td><td>5135</td><td>4824</td><td>4615</td><td>4231</td><td>4444</td><td>4424</td></tr><tr><td>&quot;Computer and i...</td><td>2388</td><td>5652</td><td>15121</td><td>42337</td><td>25159</td><td>24506</td><td>44142</td><td>47702</td><td>43066</td><td>47406</td><td>50961</td><td>55271</td><td>59586</td><td>64402</td><td>71416</td><td>79597</td><td>88638</td><td>97047</td></tr><tr><td>&quot;Education&quot;</td><td>176307</td><td>154437</td><td>108074</td><td>87147</td><td>110807</td><td>105384</td><td>105458</td><td>107235</td><td>104008</td><td>105656</td><td>104698</td><td>98838</td><td>91596</td><td>87221</td><td>85130</td><td>82599</td><td>83952</td><td>85057</td></tr><tr><td>&quot;Engineering&quot;</td><td>45034</td><td>38733</td><td>63642</td><td>77391</td><td>62448</td><td>62168</td><td>58209</td><td>66841</td><td>76356</td><td>81371</td><td>85987</td><td>92169</td><td>97852</td><td>106789</td><td>115671</td><td>121953</td><td>126692</td><td>128332</td></tr><tr><td>&quot;Engineering te...</td><td>5148</td><td>7943</td><td>11713</td><td>19731</td><td>17303</td><td>15829</td><td>14660</td><td>14565</td><td>16741</td><td>17283</td><td>17010</td><td>16807</td><td>17253</td><td>17159</td><td>18119</td><td>18728</td><td>19620</td><td>19788</td></tr><tr><td>&quot;English langua...</td><td>63914</td><td>41452</td><td>31922</td><td>34083</td><td>51064</td><td>49928</td><td>50569</td><td>55094</td><td>52754</td><td>53765</td><td>52401</td><td>50464</td><td>45851</td><td>42797</td><td>41314</td><td>40002</td><td>39344</td><td>38036</td></tr><tr><td>...</td><td>...</td><td>...</td><td>...</td><td>...</td><td>...</td><td>...</td><td>...</td><td>...</td><td>...</td><td>...</td><td>...</td><td>...</td><td>...</td><td>...</td><td>...</td><td>...</td><td>...</td><td>...</td></tr><tr><td>&quot;Multi/interdis...</td><td>6324</td><td>13709</td><td>12986</td><td>13754</td><td>17774</td><td>26885</td><td>26478</td><td>30583</td><td>42473</td><td>45717</td><td>47658</td><td>48392</td><td>47556</td><td>48833</td><td>49631</td><td>51982</td><td>53303</td><td>55022</td></tr><tr><td>&quot;Parks, recreat...</td><td>1621</td><td>5182</td><td>5729</td><td>4623</td><td>4315</td><td>12974</td><td>17948</td><td>25489</td><td>35934</td><td>38998</td><td>42628</td><td>46047</td><td>49008</td><td>50912</td><td>53292</td><td>53887</td><td>53540</td><td>53749</td></tr><tr><td>&quot;Philosophy and...</td><td>8149</td><td>8447</td><td>6776</td><td>6396</td><td>7423</td><td>7900</td><td>9442</td><td>12841</td><td>14336</td><td>14104</td><td>14338</td><td>13776</td><td>12925</td><td>12133</td><td>11740</td><td>11872</td><td>11981</td><td>11889</td></tr><tr><td>&quot;Physical scien...</td><td>21410</td><td>21458</td><td>23936</td><td>21711</td><td>16334</td><td>19716</td><td>18025</td><td>20521</td><td>24705</td><td>26664</td><td>28053</td><td>29307</td><td>30042</td><td>30483</td><td>31272</td><td>31542</td><td>31155</td><td>30738</td></tr><tr><td>&quot;Precision prod...</td><td>0</td><td>0</td><td>0</td><td>2</td><td>2</td><td>12</td><td>31</td><td>55</td><td>43</td><td>37</td><td>36</td><td>37</td><td>48</td><td>51</td><td>32</td><td>45</td><td>47</td><td>39</td></tr><tr><td>&quot;Psychology&quot;</td><td>38187</td><td>50278</td><td>41068</td><td>40628</td><td>58655</td><td>73416</td><td>73645</td><td>88132</td><td>100906</td><td>109099</td><td>114446</td><td>117312</td><td>117573</td><td>117447</td><td>116859</td><td>116436</td><td>116550</td><td>119968</td></tr><tr><td>&quot;Public adminis...</td><td>5466</td><td>15440</td><td>16707</td><td>11887</td><td>14350</td><td>19849</td><td>19447</td><td>21986</td><td>26799</td><td>29695</td><td>31950</td><td>33483</td><td>34364</td><td>34433</td><td>35461</td><td>35637</td><td>35104</td><td>34356</td></tr><tr><td>&quot;Social science...</td><td>155324</td><td>126396</td><td>100513</td><td>93840</td><td>125107</td><td>126479</td><td>128036</td><td>161468</td><td>177169</td><td>178534</td><td>177767</td><td>173132</td><td>166971</td><td>161211</td><td>159097</td><td>159962</td><td>160678</td><td>161164</td></tr><tr><td>&quot;Theology and r...</td><td>3720</td><td>5490</td><td>5808</td><td>5510</td><td>4799</td><td>4933</td><td>6220</td><td>7687</td><td>7567</td><td>7845</td><td>7839</td><td>7865</td><td>7859</td><td>7826</td><td>7489</td><td>7252</td><td>7061</td><td>6855</td></tr><tr><td>&quot;Transportation...</td><td>0</td><td>225</td><td>263</td><td>1838</td><td>2622</td><td>3561</td><td>3748</td><td>5349</td><td>4941</td><td>4876</td><td>4661</td><td>4588</td><td>4730</td><td>4531</td><td>4708</td><td>4924</td><td>5051</td><td>5251</td></tr><tr><td>&quot;Visual and per...</td><td>30394</td><td>42138</td><td>40479</td><td>37241</td><td>42186</td><td>49296</td><td>61148</td><td>83292</td><td>93939</td><td>95806</td><td>97799</td><td>97414</td><td>95840</td><td>92979</td><td>91291</td><td>88507</td><td>89741</td><td>92332</td></tr><tr><td>&quot;Other and not ...</td><td>0</td><td>0</td><td>0</td><td>0</td><td>13258</td><td>1756</td><td>783</td><td>0</td><td>0</td><td>0</td><td>0</td><td>0</td><td>0</td><td>0</td><td>0</td><td>0</td><td>0</td><td>0</td></tr></tbody></table></div>"
      ],
      "text/plain": [
       "shape: (33, 19)\n",
       "┌──────────────────────┬─────────┬─────────┬─────────┬─────┬─────────┬─────────┬─────────┬─────────┐\n",
       "│ Field of study       ┆ 1970-71 ┆ 1975-76 ┆ 1980-81 ┆ ... ┆ 2016-17 ┆ 2017-18 ┆ 2018-19 ┆ 2019-20 │\n",
       "│ ---                  ┆ ---     ┆ ---     ┆ ---     ┆     ┆ ---     ┆ ---     ┆ ---     ┆ ---     │\n",
       "│ str                  ┆ i64     ┆ i64     ┆ i64     ┆     ┆ i64     ┆ i64     ┆ i64     ┆ i64     │\n",
       "╞══════════════════════╪═════════╪═════════╪═════════╪═════╪═════════╪═════════╪═════════╪═════════╡\n",
       "│ Agriculture and      ┆ 12674   ┆ 19402   ┆ 21886   ┆ ... ┆ 38782   ┆ 40334   ┆ 41373   ┆ 41848   │\n",
       "│ natural resource...  ┆         ┆         ┆         ┆     ┆         ┆         ┆         ┆         │\n",
       "│ Architecture and     ┆ 5570    ┆ 9146    ┆ 9455    ┆ ... ┆ 8579    ┆ 8464    ┆ 8806    ┆ 9045    │\n",
       "│ related service...   ┆         ┆         ┆         ┆     ┆         ┆         ┆         ┆         │\n",
       "│ Area, ethnic,        ┆ 2579    ┆ 3577    ┆ 2887    ┆ ... ┆ 7720    ┆ 7717    ┆ 7733    ┆ 7767    │\n",
       "│ cultural, gender,    ┆         ┆         ┆         ┆     ┆         ┆         ┆         ┆         │\n",
       "│ ...                  ┆         ┆         ┆         ┆     ┆         ┆         ┆         ┆         │\n",
       "│ Biological and       ┆ 35705   ┆ 54154   ┆ 43078   ┆ ... ┆ 116768  ┆ 118661  ┆ 121233  ┆ 126590  │\n",
       "│ biomedical scienc... ┆         ┆         ┆         ┆     ┆         ┆         ┆         ┆         │\n",
       "│ ...                  ┆ ...     ┆ ...     ┆ ...     ┆ ... ┆ ...     ┆ ...     ┆ ...     ┆ ...     │\n",
       "│ Theology and         ┆ 3720    ┆ 5490    ┆ 5808    ┆ ... ┆ 7489    ┆ 7252    ┆ 7061    ┆ 6855    │\n",
       "│ religious            ┆         ┆         ┆         ┆     ┆         ┆         ┆         ┆         │\n",
       "│ vocations...         ┆         ┆         ┆         ┆     ┆         ┆         ┆         ┆         │\n",
       "│ Transportation and   ┆ 0       ┆ 225     ┆ 263     ┆ ... ┆ 4708    ┆ 4924    ┆ 5051    ┆ 5251    │\n",
       "│ materials mov...     ┆         ┆         ┆         ┆     ┆         ┆         ┆         ┆         │\n",
       "│ Visual and           ┆ 30394   ┆ 42138   ┆ 40479   ┆ ... ┆ 91291   ┆ 88507   ┆ 89741   ┆ 92332   │\n",
       "│ performing arts      ┆         ┆         ┆         ┆     ┆         ┆         ┆         ┆         │\n",
       "│ Other and not        ┆ 0       ┆ 0       ┆ 0       ┆ ... ┆ 0       ┆ 0       ┆ 0       ┆ 0       │\n",
       "│ classified           ┆         ┆         ┆         ┆     ┆         ┆         ┆         ┆         │\n",
       "└──────────────────────┴─────────┴─────────┴─────────┴─────┴─────────┴─────────┴─────────┴─────────┘"
      ]
     },
     "execution_count": 2,
     "metadata": {},
     "output_type": "execute_result"
    }
   ],
   "source": [
    "q = (\n",
    "    df22\n",
    "    .lazy()\n",
    "    .select(\n",
    "        [\n",
    "            pl.col('Field of study').apply(lambda orig: re.sub('\\\\\\\\[0-9]+\\\\\\\\','', orig)),\n",
    "            pl.exclude('Field of study')\n",
    "        ]\n",
    "    )\n",
    ")\n",
    "df66 = q.collect()\n",
    "df66"
   ]
  },
  {
   "cell_type": "code",
   "execution_count": 16,
   "id": "4c36c76e-65e4-4d62-b851-0c1ca6d4c1ff",
   "metadata": {
    "tags": []
   },
   "outputs": [
    {
     "data": {
      "text/plain": [
       "polars.internals.dataframe.frame.DataFrame"
      ]
     },
     "execution_count": 16,
     "metadata": {},
     "output_type": "execute_result"
    }
   ],
   "source": [
    "type(df22)"
   ]
  },
  {
   "cell_type": "code",
   "execution_count": 5,
   "id": "c9e05588-eea0-474e-95bb-2689613b8a4b",
   "metadata": {
    "tags": []
   },
   "outputs": [
    {
     "data": {
      "text/html": [
       "<div><style>\n",
       ".dataframe > thead > tr > th,\n",
       ".dataframe > tbody > tr > td {\n",
       "  text-align: right;\n",
       "}\n",
       "</style>\n",
       "<small>shape: (33, 19)</small><table border=\"1\" class=\"dataframe\"><thead><tr><th>Field of study</th><th>1970-71</th><th>1975-76</th><th>1980-81</th><th>1985-86</th><th>1990-91</th><th>1995-96</th><th>2000-01</th><th>2005-06</th><th>2010-11</th><th>2011-12</th><th>2012-13</th><th>2013-14</th><th>2014-15</th><th>2015-16</th><th>2016-17</th><th>2017-18</th><th>2018-19</th><th>2019-20</th></tr><tr><td>str</td><td>str</td><td>str</td><td>str</td><td>str</td><td>str</td><td>str</td><td>str</td><td>str</td><td>str</td><td>str</td><td>str</td><td>str</td><td>str</td><td>str</td><td>str</td><td>str</td><td>str</td><td>str</td></tr></thead><tbody><tr><td>&quot;Agriculture an...</td><td>&quot;    12,674&quot;</td><td>&quot;    19,402&quot;</td><td>&quot;    21,886&quot;</td><td>&quot;    17,191&quot;</td><td>&quot;    13,363&quot;</td><td>&quot;    21,757&quot;</td><td>&quot;    23,766&quot;</td><td>&quot;    23,497&quot;</td><td>&quot;    29,203&quot;</td><td>&quot;    31,629&quot;</td><td>&quot;    34,304&quot;</td><td>&quot;    35,953&quot;</td><td>&quot;    37,028&quot;</td><td>&quot;    37,827&quot;</td><td>&quot;    38,782&quot;</td><td>&quot;    40,334&quot;</td><td>&quot;    41,373&quot;</td><td>&quot;    41,848&quot;</td></tr><tr><td>&quot;Architecture a...</td><td>&quot;     5,570&quot;</td><td>&quot;     9,146&quot;</td><td>&quot;     9,455&quot;</td><td>&quot;     9,119&quot;</td><td>&quot;     9,781&quot;</td><td>&quot;     8,352&quot;</td><td>&quot;     8,480&quot;</td><td>&quot;     9,515&quot;</td><td>&quot;     9,831&quot;</td><td>&quot;     9,727&quot;</td><td>&quot;     9,757&quot;</td><td>&quot;     9,149&quot;</td><td>&quot;     9,090&quot;</td><td>&quot;     8,825&quot;</td><td>&quot;     8,579&quot;</td><td>&quot;     8,464&quot;</td><td>&quot;     8,806&quot;</td><td>&quot;     9,045&quot;</td></tr><tr><td>&quot;Area, ethnic, ...</td><td>&quot;     2,579&quot;</td><td>&quot;     3,577&quot;</td><td>&quot;     2,887&quot;</td><td>&quot;     3,021&quot;</td><td>&quot;     4,776&quot;</td><td>&quot;     5,633&quot;</td><td>&quot;     6,160&quot;</td><td>&quot;     7,878&quot;</td><td>&quot;     8,955&quot;</td><td>&quot;     9,228&quot;</td><td>&quot;     8,850&quot;</td><td>&quot;     8,275&quot;</td><td>&quot;     7,783&quot;</td><td>&quot;     7,840&quot;</td><td>&quot;     7,720&quot;</td><td>&quot;     7,717&quot;</td><td>&quot;     7,733&quot;</td><td>&quot;     7,767&quot;</td></tr><tr><td>&quot;Biological and...</td><td>&quot;    35,705&quot;</td><td>&quot;    54,154&quot;</td><td>&quot;    43,078&quot;</td><td>&quot;    38,395&quot;</td><td>&quot;    39,482&quot;</td><td>&quot;    61,014&quot;</td><td>&quot;    60,576&quot;</td><td>&quot;    70,602&quot;</td><td>&quot;    89,984&quot;</td><td>&quot;    95,850&quot;</td><td>&quot;   100,397&quot;</td><td>&quot;   104,657&quot;</td><td>&quot;   109,904&quot;</td><td>&quot;   113,794&quot;</td><td>&quot;   116,768&quot;</td><td>&quot;   118,661&quot;</td><td>&quot;   121,233&quot;</td><td>&quot;   126,590&quot;</td></tr><tr><td>&quot;Business&quot;</td><td>&quot;   115,396&quot;</td><td>&quot;   143,171&quot;</td><td>&quot;   200,521&quot;</td><td>&quot;   236,700&quot;</td><td>&quot;   249,165&quot;</td><td>&quot;   226,623&quot;</td><td>&quot;   263,515&quot;</td><td>&quot;   318,043&quot;</td><td>&quot;   365,133&quot;</td><td>&quot;   367,235&quot;</td><td>&quot;   360,887&quot;</td><td>&quot;   358,132&quot;</td><td>&quot;   363,741&quot;</td><td>&quot;   371,690&quot;</td><td>&quot;   381,109&quot;</td><td>&quot;   386,240&quot;</td><td>&quot;   390,490&quot;</td><td>&quot;   387,851&quot;</td></tr><tr><td>&quot;Communication,...</td><td>&quot;    10,324&quot;</td><td>&quot;    20,045&quot;</td><td>&quot;    29,428&quot;</td><td>&quot;    41,666&quot;</td><td>&quot;    51,650&quot;</td><td>&quot;    47,320&quot;</td><td>&quot;    58,013&quot;</td><td>&quot;    73,658&quot;</td><td>&quot;    83,231&quot;</td><td>&quot;    83,771&quot;</td><td>&quot;    84,818&quot;</td><td>&quot;    87,612&quot;</td><td>&quot;    90,658&quot;</td><td>&quot;    92,551&quot;</td><td>&quot;    93,794&quot;</td><td>&quot;    92,289&quot;</td><td>&quot;    92,528&quot;</td><td>&quot;    91,752&quot;</td></tr><tr><td>&quot;Communications...</td><td>&quot;       478&quot;</td><td>&quot;     1,237&quot;</td><td>&quot;     1,854&quot;</td><td>&quot;     1,479&quot;</td><td>&quot;     1,397&quot;</td><td>&quot;       853&quot;</td><td>&quot;     1,178&quot;</td><td>&quot;     2,987&quot;</td><td>&quot;     4,858&quot;</td><td>&quot;     4,983&quot;</td><td>&quot;     4,987&quot;</td><td>&quot;     4,991&quot;</td><td>&quot;     5,135&quot;</td><td>&quot;     4,824&quot;</td><td>&quot;     4,615&quot;</td><td>&quot;     4,231&quot;</td><td>&quot;     4,444&quot;</td><td>&quot;     4,424&quot;</td></tr><tr><td>&quot;Computer and i...</td><td>&quot;     2,388&quot;</td><td>&quot;     5,652&quot;</td><td>&quot;    15,121&quot;</td><td>&quot;    42,337&quot;</td><td>&quot;    25,159&quot;</td><td>&quot;    24,506&quot;</td><td>&quot;    44,142&quot;</td><td>&quot;    47,702&quot;</td><td>&quot;    43,066&quot;</td><td>&quot;    47,406&quot;</td><td>&quot;    50,961&quot;</td><td>&quot;    55,271&quot;</td><td>&quot;    59,586&quot;</td><td>&quot;    64,402&quot;</td><td>&quot;    71,416&quot;</td><td>&quot;    79,597&quot;</td><td>&quot;    88,638&quot;</td><td>&quot;    97,047&quot;</td></tr><tr><td>&quot;Education&quot;</td><td>&quot;   176,307&quot;</td><td>&quot;   154,437&quot;</td><td>&quot;   108,074&quot;</td><td>&quot;    87,147&quot;</td><td>&quot;   110,807&quot;</td><td>&quot;   105,384&quot;</td><td>&quot;   105,458&quot;</td><td>&quot;   107,235&quot;</td><td>&quot;   104,008&quot;</td><td>&quot;   105,656&quot;</td><td>&quot;   104,698&quot;</td><td>&quot;    98,838&quot;</td><td>&quot;    91,596&quot;</td><td>&quot;    87,221&quot;</td><td>&quot;    85,130&quot;</td><td>&quot;    82,599&quot;</td><td>&quot;    83,952&quot;</td><td>&quot;    85,057&quot;</td></tr><tr><td>&quot;Engineering&quot;</td><td>&quot;    45,034&quot;</td><td>&quot;    38,733&quot;</td><td>&quot;    63,642&quot;</td><td>&quot;    77,391&quot;</td><td>&quot;    62,448&quot;</td><td>&quot;    62,168&quot;</td><td>&quot;    58,209&quot;</td><td>&quot;    66,841&quot;</td><td>&quot;    76,356&quot;</td><td>&quot;    81,371&quot;</td><td>&quot;    85,987&quot;</td><td>&quot;    92,169&quot;</td><td>&quot;    97,852&quot;</td><td>&quot;   106,789&quot;</td><td>&quot;   115,671&quot;</td><td>&quot;   121,953&quot;</td><td>&quot;   126,692&quot;</td><td>&quot;   128,332&quot;</td></tr><tr><td>&quot;Engineering te...</td><td>&quot;     5,148&quot;</td><td>&quot;     7,943&quot;</td><td>&quot;    11,713&quot;</td><td>&quot;    19,731&quot;</td><td>&quot;    17,303&quot;</td><td>&quot;    15,829&quot;</td><td>&quot;    14,660&quot;</td><td>&quot;    14,565&quot;</td><td>&quot;    16,741&quot;</td><td>&quot;    17,283&quot;</td><td>&quot;    17,010&quot;</td><td>&quot;    16,807&quot;</td><td>&quot;    17,253&quot;</td><td>&quot;    17,159&quot;</td><td>&quot;    18,119&quot;</td><td>&quot;    18,728&quot;</td><td>&quot;    19,620&quot;</td><td>&quot;    19,788&quot;</td></tr><tr><td>&quot;English langua...</td><td>&quot;    63,914&quot;</td><td>&quot;    41,452&quot;</td><td>&quot;    31,922&quot;</td><td>&quot;    34,083&quot;</td><td>&quot;    51,064&quot;</td><td>&quot;    49,928&quot;</td><td>&quot;    50,569&quot;</td><td>&quot;    55,094&quot;</td><td>&quot;    52,754&quot;</td><td>&quot;    53,765&quot;</td><td>&quot;    52,401&quot;</td><td>&quot;    50,464&quot;</td><td>&quot;    45,851&quot;</td><td>&quot;    42,797&quot;</td><td>&quot;    41,314&quot;</td><td>&quot;    40,002&quot;</td><td>&quot;    39,344&quot;</td><td>&quot;    38,036&quot;</td></tr><tr><td>...</td><td>...</td><td>...</td><td>...</td><td>...</td><td>...</td><td>...</td><td>...</td><td>...</td><td>...</td><td>...</td><td>...</td><td>...</td><td>...</td><td>...</td><td>...</td><td>...</td><td>...</td><td>...</td></tr><tr><td>&quot;Multi/interdis...</td><td>&quot;     6,324&quot;</td><td>&quot;    13,709&quot;</td><td>&quot;    12,986&quot;</td><td>&quot;    13,754&quot;</td><td>&quot;    17,774&quot;</td><td>&quot;    26,885&quot;</td><td>&quot;    26,478&quot;</td><td>&quot;    30,583&quot;</td><td>&quot;    42,473&quot;</td><td>&quot;    45,717&quot;</td><td>&quot;    47,658&quot;</td><td>&quot;    48,392&quot;</td><td>&quot;    47,556&quot;</td><td>&quot;    48,833&quot;</td><td>&quot;    49,631&quot;</td><td>&quot;    51,982&quot;</td><td>&quot;    53,303&quot;</td><td>&quot;    55,022&quot;</td></tr><tr><td>&quot;Parks, recreat...</td><td>&quot;     1,621&quot;</td><td>&quot;     5,182&quot;</td><td>&quot;     5,729&quot;</td><td>&quot;     4,623&quot;</td><td>&quot;     4,315&quot;</td><td>&quot;    12,974&quot;</td><td>&quot;    17,948&quot;</td><td>&quot;    25,489&quot;</td><td>&quot;    35,934&quot;</td><td>&quot;    38,998&quot;</td><td>&quot;    42,628&quot;</td><td>&quot;    46,047&quot;</td><td>&quot;    49,008&quot;</td><td>&quot;    50,912&quot;</td><td>&quot;    53,292&quot;</td><td>&quot;    53,887&quot;</td><td>&quot;    53,540&quot;</td><td>&quot;    53,749&quot;</td></tr><tr><td>&quot;Philosophy and...</td><td>&quot;     8,149&quot;</td><td>&quot;     8,447&quot;</td><td>&quot;     6,776&quot;</td><td>&quot;     6,396&quot;</td><td>&quot;     7,423&quot;</td><td>&quot;     7,900&quot;</td><td>&quot;     9,442&quot;</td><td>&quot;    12,841&quot;</td><td>&quot;    14,336&quot;</td><td>&quot;    14,104&quot;</td><td>&quot;    14,338&quot;</td><td>&quot;    13,776&quot;</td><td>&quot;    12,925&quot;</td><td>&quot;    12,133&quot;</td><td>&quot;    11,740&quot;</td><td>&quot;    11,872&quot;</td><td>&quot;    11,981&quot;</td><td>&quot;    11,889&quot;</td></tr><tr><td>&quot;Physical scien...</td><td>&quot;    21,410&quot;</td><td>&quot;    21,458&quot;</td><td>&quot;    23,936&quot;</td><td>&quot;    21,711&quot;</td><td>&quot;    16,334&quot;</td><td>&quot;    19,716&quot;</td><td>&quot;    18,025&quot;</td><td>&quot;    20,521&quot;</td><td>&quot;    24,705&quot;</td><td>&quot;    26,664&quot;</td><td>&quot;    28,053&quot;</td><td>&quot;    29,307&quot;</td><td>&quot;    30,042&quot;</td><td>&quot;    30,483&quot;</td><td>&quot;    31,272&quot;</td><td>&quot;    31,542&quot;</td><td>&quot;    31,155&quot;</td><td>&quot;    30,738&quot;</td></tr><tr><td>&quot;Precision prod...</td><td>&quot;         0&quot;</td><td>&quot;         0&quot;</td><td>&quot;         0&quot;</td><td>&quot;         2&quot;</td><td>&quot;         2&quot;</td><td>&quot;        12&quot;</td><td>&quot;        31&quot;</td><td>&quot;        55&quot;</td><td>&quot;        43&quot;</td><td>&quot;        37&quot;</td><td>&quot;        36&quot;</td><td>&quot;        37&quot;</td><td>&quot;        48&quot;</td><td>&quot;        51&quot;</td><td>&quot;        32&quot;</td><td>&quot;        45&quot;</td><td>&quot;        47&quot;</td><td>&quot;        39&quot;</td></tr><tr><td>&quot;Psychology&quot;</td><td>&quot;    38,187&quot;</td><td>&quot;    50,278&quot;</td><td>&quot;    41,068&quot;</td><td>&quot;    40,628&quot;</td><td>&quot;    58,655&quot;</td><td>&quot;    73,416&quot;</td><td>&quot;    73,645&quot;</td><td>&quot;    88,132&quot;</td><td>&quot;   100,906&quot;</td><td>&quot;   109,099&quot;</td><td>&quot;   114,446&quot;</td><td>&quot;   117,312&quot;</td><td>&quot;   117,573&quot;</td><td>&quot;   117,447&quot;</td><td>&quot;   116,859&quot;</td><td>&quot;   116,436&quot;</td><td>&quot;   116,550&quot;</td><td>&quot;   119,968&quot;</td></tr><tr><td>&quot;Public adminis...</td><td>&quot;     5,466&quot;</td><td>&quot;    15,440&quot;</td><td>&quot;    16,707&quot;</td><td>&quot;    11,887&quot;</td><td>&quot;    14,350&quot;</td><td>&quot;    19,849&quot;</td><td>&quot;    19,447&quot;</td><td>&quot;    21,986&quot;</td><td>&quot;    26,799&quot;</td><td>&quot;    29,695&quot;</td><td>&quot;    31,950&quot;</td><td>&quot;    33,483&quot;</td><td>&quot;    34,364&quot;</td><td>&quot;    34,433&quot;</td><td>&quot;    35,461&quot;</td><td>&quot;    35,637&quot;</td><td>&quot;    35,104&quot;</td><td>&quot;    34,356&quot;</td></tr><tr><td>&quot;Social science...</td><td>&quot;   155,324&quot;</td><td>&quot;   126,396&quot;</td><td>&quot;   100,513&quot;</td><td>&quot;    93,840&quot;</td><td>&quot;   125,107&quot;</td><td>&quot;   126,479&quot;</td><td>&quot;   128,036&quot;</td><td>&quot;   161,468&quot;</td><td>&quot;   177,169&quot;</td><td>&quot;   178,534&quot;</td><td>&quot;   177,767&quot;</td><td>&quot;   173,132&quot;</td><td>&quot;   166,971&quot;</td><td>&quot;   161,211&quot;</td><td>&quot;   159,097&quot;</td><td>&quot;   159,962&quot;</td><td>&quot;   160,678&quot;</td><td>&quot;   161,164&quot;</td></tr><tr><td>&quot;Theology and r...</td><td>&quot;     3,720&quot;</td><td>&quot;     5,490&quot;</td><td>&quot;     5,808&quot;</td><td>&quot;     5,510&quot;</td><td>&quot;     4,799&quot;</td><td>&quot;     4,933&quot;</td><td>&quot;     6,220&quot;</td><td>&quot;     7,687&quot;</td><td>&quot;     7,567&quot;</td><td>&quot;     7,845&quot;</td><td>&quot;     7,839&quot;</td><td>&quot;     7,865&quot;</td><td>&quot;     7,859&quot;</td><td>&quot;     7,826&quot;</td><td>&quot;     7,489&quot;</td><td>&quot;     7,252&quot;</td><td>&quot;     7,061&quot;</td><td>&quot;     6,855&quot;</td></tr><tr><td>&quot;Transportation...</td><td>&quot;         0&quot;</td><td>&quot;       225&quot;</td><td>&quot;       263&quot;</td><td>&quot;     1,838&quot;</td><td>&quot;     2,622&quot;</td><td>&quot;     3,561&quot;</td><td>&quot;     3,748&quot;</td><td>&quot;     5,349&quot;</td><td>&quot;     4,941&quot;</td><td>&quot;     4,876&quot;</td><td>&quot;     4,661&quot;</td><td>&quot;     4,588&quot;</td><td>&quot;     4,730&quot;</td><td>&quot;     4,531&quot;</td><td>&quot;     4,708&quot;</td><td>&quot;     4,924&quot;</td><td>&quot;     5,051&quot;</td><td>&quot;     5,251&quot;</td></tr><tr><td>&quot;Visual and per...</td><td>&quot;    30,394&quot;</td><td>&quot;    42,138&quot;</td><td>&quot;    40,479&quot;</td><td>&quot;    37,241&quot;</td><td>&quot;    42,186&quot;</td><td>&quot;    49,296&quot;</td><td>&quot;    61,148&quot;</td><td>&quot;    83,292&quot;</td><td>&quot;    93,939&quot;</td><td>&quot;    95,806&quot;</td><td>&quot;    97,799&quot;</td><td>&quot;    97,414&quot;</td><td>&quot;    95,840&quot;</td><td>&quot;    92,979&quot;</td><td>&quot;    91,291&quot;</td><td>&quot;    88,507&quot;</td><td>&quot;    89,741&quot;</td><td>&quot;    92,332&quot;</td></tr><tr><td>&quot;Other and not ...</td><td>&quot;         0&quot;</td><td>&quot;         0&quot;</td><td>&quot;         0&quot;</td><td>&quot;         0&quot;</td><td>&quot;    13,258&quot;</td><td>&quot;     1,756&quot;</td><td>&quot;       783&quot;</td><td>&quot;         0&quot;</td><td>&quot;         0&quot;</td><td>&quot;         0&quot;</td><td>&quot;         0&quot;</td><td>&quot;         0&quot;</td><td>&quot;         0&quot;</td><td>&quot;         0&quot;</td><td>&quot;         0&quot;</td><td>&quot;         0&quot;</td><td>&quot;         0&quot;</td><td>&quot;         0&quot;</td></tr></tbody></table></div>"
      ],
      "text/plain": [
       "shape: (33, 19)\n",
       "┌────────────┬───────────┬───────────┬───────────┬─────┬──────────┬──────────┬──────────┬──────────┐\n",
       "│ Field of   ┆ 1970-71   ┆ 1975-76   ┆ 1980-81   ┆ ... ┆ 2016-17  ┆ 2017-18  ┆ 2018-19  ┆ 2019-20  │\n",
       "│ study      ┆ ---       ┆ ---       ┆ ---       ┆     ┆ ---      ┆ ---      ┆ ---      ┆ ---      │\n",
       "│ ---        ┆ str       ┆ str       ┆ str       ┆     ┆ str      ┆ str      ┆ str      ┆ str      │\n",
       "│ str        ┆           ┆           ┆           ┆     ┆          ┆          ┆          ┆          │\n",
       "╞════════════╪═══════════╪═══════════╪═══════════╪═════╪══════════╪══════════╪══════════╪══════════╡\n",
       "│ Agricultur ┆ 12,674    ┆ 19,402    ┆ 21,886    ┆ ... ┆ 38,782   ┆ 40,334   ┆ 41,373   ┆ 41,848   │\n",
       "│ e and      ┆           ┆           ┆           ┆     ┆          ┆          ┆          ┆          │\n",
       "│ natural    ┆           ┆           ┆           ┆     ┆          ┆          ┆          ┆          │\n",
       "│ resource.. ┆           ┆           ┆           ┆     ┆          ┆          ┆          ┆          │\n",
       "│ .          ┆           ┆           ┆           ┆     ┆          ┆          ┆          ┆          │\n",
       "│ Architectu ┆ 5,570     ┆ 9,146     ┆ 9,455     ┆ ... ┆ 8,579    ┆ 8,464    ┆ 8,806    ┆ 9,045    │\n",
       "│ re and     ┆           ┆           ┆           ┆     ┆          ┆          ┆          ┆          │\n",
       "│ related    ┆           ┆           ┆           ┆     ┆          ┆          ┆          ┆          │\n",
       "│ service... ┆           ┆           ┆           ┆     ┆          ┆          ┆          ┆          │\n",
       "│ Area,      ┆ 2,579     ┆ 3,577     ┆ 2,887     ┆ ... ┆ 7,720    ┆ 7,717    ┆ 7,733    ┆ 7,767    │\n",
       "│ ethnic,    ┆           ┆           ┆           ┆     ┆          ┆          ┆          ┆          │\n",
       "│ cultural,  ┆           ┆           ┆           ┆     ┆          ┆          ┆          ┆          │\n",
       "│ gender,    ┆           ┆           ┆           ┆     ┆          ┆          ┆          ┆          │\n",
       "│ ...        ┆           ┆           ┆           ┆     ┆          ┆          ┆          ┆          │\n",
       "│ Biological ┆ 35,705    ┆ 54,154    ┆ 43,078    ┆ ... ┆ 116,768  ┆ 118,661  ┆ 121,233  ┆ 126,590  │\n",
       "│ and        ┆           ┆           ┆           ┆     ┆          ┆          ┆          ┆          │\n",
       "│ biomedical ┆           ┆           ┆           ┆     ┆          ┆          ┆          ┆          │\n",
       "│ scienc...  ┆           ┆           ┆           ┆     ┆          ┆          ┆          ┆          │\n",
       "│ ...        ┆ ...       ┆ ...       ┆ ...       ┆ ... ┆ ...      ┆ ...      ┆ ...      ┆ ...      │\n",
       "│ Theology   ┆ 3,720     ┆ 5,490     ┆ 5,808     ┆ ... ┆ 7,489    ┆ 7,252    ┆ 7,061    ┆ 6,855    │\n",
       "│ and        ┆           ┆           ┆           ┆     ┆          ┆          ┆          ┆          │\n",
       "│ religious  ┆           ┆           ┆           ┆     ┆          ┆          ┆          ┆          │\n",
       "│ vocations. ┆           ┆           ┆           ┆     ┆          ┆          ┆          ┆          │\n",
       "│ ..         ┆           ┆           ┆           ┆     ┆          ┆          ┆          ┆          │\n",
       "│ Transporta ┆ 0         ┆ 225       ┆ 263       ┆ ... ┆ 4,708    ┆ 4,924    ┆ 5,051    ┆ 5,251    │\n",
       "│ tion and   ┆           ┆           ┆           ┆     ┆          ┆          ┆          ┆          │\n",
       "│ materials  ┆           ┆           ┆           ┆     ┆          ┆          ┆          ┆          │\n",
       "│ mov...     ┆           ┆           ┆           ┆     ┆          ┆          ┆          ┆          │\n",
       "│ Visual and ┆ 30,394    ┆ 42,138    ┆ 40,479    ┆ ... ┆ 91,291   ┆ 88,507   ┆ 89,741   ┆ 92,332   │\n",
       "│ performing ┆           ┆           ┆           ┆     ┆          ┆          ┆          ┆          │\n",
       "│ arts       ┆           ┆           ┆           ┆     ┆          ┆          ┆          ┆          │\n",
       "│ Other and  ┆ 0         ┆ 0         ┆ 0         ┆ ... ┆ 0        ┆ 0        ┆ 0        ┆ 0        │\n",
       "│ not        ┆           ┆           ┆           ┆     ┆          ┆          ┆          ┆          │\n",
       "│ classified ┆           ┆           ┆           ┆     ┆          ┆          ┆          ┆          │\n",
       "└────────────┴───────────┴───────────┴───────────┴─────┴──────────┴──────────┴──────────┴──────────┘"
      ]
     },
     "execution_count": 5,
     "metadata": {},
     "output_type": "execute_result"
    }
   ],
   "source": [
    "qq = (\n",
    "    df22\n",
    "    .lazy()\n",
    "    .with_columns(pl.col('Field of study').apply(lambda orig: re.sub('\\\\\\\\[0-9]+\\\\\\\\','', orig)))\n",
    "    .with_columns(pl.col([s.name for s in df22 if not (s.name == 'Field of study')]).apply(lambda acc_frm: '{:>10,.0f}'.format(acc_frm)))\n",
    ")\n",
    "df66 = qq.collect()\n",
    "df66"
   ]
  },
  {
   "cell_type": "code",
   "execution_count": 47,
   "id": "56c06f28-7181-4eb9-b73d-a29adf95cd43",
   "metadata": {
    "tags": []
   },
   "outputs": [
    {
     "data": {
      "application/vnd.plotly.v1+json": {
       "config": {
        "plotlyServerURL": "https://plot.ly"
       },
       "data": [
        {
         "alignmentgroup": "True",
         "hovertemplate": "x=%{x}<br>y=%{y}<extra></extra>",
         "legendgroup": "",
         "marker": {
          "color": "#636efa",
          "pattern": {
           "shape": ""
          }
         },
         "name": "",
         "offsetgroup": "",
         "orientation": "v",
         "showlegend": false,
         "textposition": "auto",
         "type": "bar",
         "x": [
          "    12,674",
          "     5,570",
          "     2,579",
          "    35,705",
          "   115,396",
          "    10,324",
          "       478",
          "     2,388",
          "   176,307",
          "    45,034",
          "     5,148",
          "    63,914",
          "    11,167",
          "    20,988",
          "    25,221",
          "     2,045",
          "       545",
          "     7,481",
          "     1,013",
          "    24,801",
          "       357",
          "     6,324",
          "     1,621",
          "     8,149",
          "    21,410",
          "         0",
          "    38,187",
          "     5,466",
          "   155,324",
          "     3,720",
          "         0",
          "    30,394",
          "         0"
         ],
         "xaxis": "x",
         "y": [
          "    19,402",
          "     9,146",
          "     3,577",
          "    54,154",
          "   143,171",
          "    20,045",
          "     1,237",
          "     5,652",
          "   154,437",
          "    38,733",
          "     7,943",
          "    41,452",
          "    17,409",
          "    17,068",
          "    53,885",
          "    12,507",
          "       531",
          "    18,855",
          "       843",
          "    15,984",
          "       952",
          "    13,709",
          "     5,182",
          "     8,447",
          "    21,458",
          "         0",
          "    50,278",
          "    15,440",
          "   126,396",
          "     5,490",
          "       225",
          "    42,138",
          "         0"
         ],
         "yaxis": "y"
        }
       ],
       "layout": {
        "barmode": "relative",
        "height": 400,
        "legend": {
         "tracegroupgap": 0
        },
        "margin": {
         "t": 60
        },
        "template": {
         "data": {
          "bar": [
           {
            "error_x": {
             "color": "#2a3f5f"
            },
            "error_y": {
             "color": "#2a3f5f"
            },
            "marker": {
             "line": {
              "color": "#E5ECF6",
              "width": 0.5
             },
             "pattern": {
              "fillmode": "overlay",
              "size": 10,
              "solidity": 0.2
             }
            },
            "type": "bar"
           }
          ],
          "barpolar": [
           {
            "marker": {
             "line": {
              "color": "#E5ECF6",
              "width": 0.5
             },
             "pattern": {
              "fillmode": "overlay",
              "size": 10,
              "solidity": 0.2
             }
            },
            "type": "barpolar"
           }
          ],
          "carpet": [
           {
            "aaxis": {
             "endlinecolor": "#2a3f5f",
             "gridcolor": "white",
             "linecolor": "white",
             "minorgridcolor": "white",
             "startlinecolor": "#2a3f5f"
            },
            "baxis": {
             "endlinecolor": "#2a3f5f",
             "gridcolor": "white",
             "linecolor": "white",
             "minorgridcolor": "white",
             "startlinecolor": "#2a3f5f"
            },
            "type": "carpet"
           }
          ],
          "choropleth": [
           {
            "colorbar": {
             "outlinewidth": 0,
             "ticks": ""
            },
            "type": "choropleth"
           }
          ],
          "contour": [
           {
            "colorbar": {
             "outlinewidth": 0,
             "ticks": ""
            },
            "colorscale": [
             [
              0,
              "#0d0887"
             ],
             [
              0.1111111111111111,
              "#46039f"
             ],
             [
              0.2222222222222222,
              "#7201a8"
             ],
             [
              0.3333333333333333,
              "#9c179e"
             ],
             [
              0.4444444444444444,
              "#bd3786"
             ],
             [
              0.5555555555555556,
              "#d8576b"
             ],
             [
              0.6666666666666666,
              "#ed7953"
             ],
             [
              0.7777777777777778,
              "#fb9f3a"
             ],
             [
              0.8888888888888888,
              "#fdca26"
             ],
             [
              1,
              "#f0f921"
             ]
            ],
            "type": "contour"
           }
          ],
          "contourcarpet": [
           {
            "colorbar": {
             "outlinewidth": 0,
             "ticks": ""
            },
            "type": "contourcarpet"
           }
          ],
          "heatmap": [
           {
            "colorbar": {
             "outlinewidth": 0,
             "ticks": ""
            },
            "colorscale": [
             [
              0,
              "#0d0887"
             ],
             [
              0.1111111111111111,
              "#46039f"
             ],
             [
              0.2222222222222222,
              "#7201a8"
             ],
             [
              0.3333333333333333,
              "#9c179e"
             ],
             [
              0.4444444444444444,
              "#bd3786"
             ],
             [
              0.5555555555555556,
              "#d8576b"
             ],
             [
              0.6666666666666666,
              "#ed7953"
             ],
             [
              0.7777777777777778,
              "#fb9f3a"
             ],
             [
              0.8888888888888888,
              "#fdca26"
             ],
             [
              1,
              "#f0f921"
             ]
            ],
            "type": "heatmap"
           }
          ],
          "heatmapgl": [
           {
            "colorbar": {
             "outlinewidth": 0,
             "ticks": ""
            },
            "colorscale": [
             [
              0,
              "#0d0887"
             ],
             [
              0.1111111111111111,
              "#46039f"
             ],
             [
              0.2222222222222222,
              "#7201a8"
             ],
             [
              0.3333333333333333,
              "#9c179e"
             ],
             [
              0.4444444444444444,
              "#bd3786"
             ],
             [
              0.5555555555555556,
              "#d8576b"
             ],
             [
              0.6666666666666666,
              "#ed7953"
             ],
             [
              0.7777777777777778,
              "#fb9f3a"
             ],
             [
              0.8888888888888888,
              "#fdca26"
             ],
             [
              1,
              "#f0f921"
             ]
            ],
            "type": "heatmapgl"
           }
          ],
          "histogram": [
           {
            "marker": {
             "pattern": {
              "fillmode": "overlay",
              "size": 10,
              "solidity": 0.2
             }
            },
            "type": "histogram"
           }
          ],
          "histogram2d": [
           {
            "colorbar": {
             "outlinewidth": 0,
             "ticks": ""
            },
            "colorscale": [
             [
              0,
              "#0d0887"
             ],
             [
              0.1111111111111111,
              "#46039f"
             ],
             [
              0.2222222222222222,
              "#7201a8"
             ],
             [
              0.3333333333333333,
              "#9c179e"
             ],
             [
              0.4444444444444444,
              "#bd3786"
             ],
             [
              0.5555555555555556,
              "#d8576b"
             ],
             [
              0.6666666666666666,
              "#ed7953"
             ],
             [
              0.7777777777777778,
              "#fb9f3a"
             ],
             [
              0.8888888888888888,
              "#fdca26"
             ],
             [
              1,
              "#f0f921"
             ]
            ],
            "type": "histogram2d"
           }
          ],
          "histogram2dcontour": [
           {
            "colorbar": {
             "outlinewidth": 0,
             "ticks": ""
            },
            "colorscale": [
             [
              0,
              "#0d0887"
             ],
             [
              0.1111111111111111,
              "#46039f"
             ],
             [
              0.2222222222222222,
              "#7201a8"
             ],
             [
              0.3333333333333333,
              "#9c179e"
             ],
             [
              0.4444444444444444,
              "#bd3786"
             ],
             [
              0.5555555555555556,
              "#d8576b"
             ],
             [
              0.6666666666666666,
              "#ed7953"
             ],
             [
              0.7777777777777778,
              "#fb9f3a"
             ],
             [
              0.8888888888888888,
              "#fdca26"
             ],
             [
              1,
              "#f0f921"
             ]
            ],
            "type": "histogram2dcontour"
           }
          ],
          "mesh3d": [
           {
            "colorbar": {
             "outlinewidth": 0,
             "ticks": ""
            },
            "type": "mesh3d"
           }
          ],
          "parcoords": [
           {
            "line": {
             "colorbar": {
              "outlinewidth": 0,
              "ticks": ""
             }
            },
            "type": "parcoords"
           }
          ],
          "pie": [
           {
            "automargin": true,
            "type": "pie"
           }
          ],
          "scatter": [
           {
            "fillpattern": {
             "fillmode": "overlay",
             "size": 10,
             "solidity": 0.2
            },
            "type": "scatter"
           }
          ],
          "scatter3d": [
           {
            "line": {
             "colorbar": {
              "outlinewidth": 0,
              "ticks": ""
             }
            },
            "marker": {
             "colorbar": {
              "outlinewidth": 0,
              "ticks": ""
             }
            },
            "type": "scatter3d"
           }
          ],
          "scattercarpet": [
           {
            "marker": {
             "colorbar": {
              "outlinewidth": 0,
              "ticks": ""
             }
            },
            "type": "scattercarpet"
           }
          ],
          "scattergeo": [
           {
            "marker": {
             "colorbar": {
              "outlinewidth": 0,
              "ticks": ""
             }
            },
            "type": "scattergeo"
           }
          ],
          "scattergl": [
           {
            "marker": {
             "colorbar": {
              "outlinewidth": 0,
              "ticks": ""
             }
            },
            "type": "scattergl"
           }
          ],
          "scattermapbox": [
           {
            "marker": {
             "colorbar": {
              "outlinewidth": 0,
              "ticks": ""
             }
            },
            "type": "scattermapbox"
           }
          ],
          "scatterpolar": [
           {
            "marker": {
             "colorbar": {
              "outlinewidth": 0,
              "ticks": ""
             }
            },
            "type": "scatterpolar"
           }
          ],
          "scatterpolargl": [
           {
            "marker": {
             "colorbar": {
              "outlinewidth": 0,
              "ticks": ""
             }
            },
            "type": "scatterpolargl"
           }
          ],
          "scatterternary": [
           {
            "marker": {
             "colorbar": {
              "outlinewidth": 0,
              "ticks": ""
             }
            },
            "type": "scatterternary"
           }
          ],
          "surface": [
           {
            "colorbar": {
             "outlinewidth": 0,
             "ticks": ""
            },
            "colorscale": [
             [
              0,
              "#0d0887"
             ],
             [
              0.1111111111111111,
              "#46039f"
             ],
             [
              0.2222222222222222,
              "#7201a8"
             ],
             [
              0.3333333333333333,
              "#9c179e"
             ],
             [
              0.4444444444444444,
              "#bd3786"
             ],
             [
              0.5555555555555556,
              "#d8576b"
             ],
             [
              0.6666666666666666,
              "#ed7953"
             ],
             [
              0.7777777777777778,
              "#fb9f3a"
             ],
             [
              0.8888888888888888,
              "#fdca26"
             ],
             [
              1,
              "#f0f921"
             ]
            ],
            "type": "surface"
           }
          ],
          "table": [
           {
            "cells": {
             "fill": {
              "color": "#EBF0F8"
             },
             "line": {
              "color": "white"
             }
            },
            "header": {
             "fill": {
              "color": "#C8D4E3"
             },
             "line": {
              "color": "white"
             }
            },
            "type": "table"
           }
          ]
         },
         "layout": {
          "annotationdefaults": {
           "arrowcolor": "#2a3f5f",
           "arrowhead": 0,
           "arrowwidth": 1
          },
          "autotypenumbers": "strict",
          "coloraxis": {
           "colorbar": {
            "outlinewidth": 0,
            "ticks": ""
           }
          },
          "colorscale": {
           "diverging": [
            [
             0,
             "#8e0152"
            ],
            [
             0.1,
             "#c51b7d"
            ],
            [
             0.2,
             "#de77ae"
            ],
            [
             0.3,
             "#f1b6da"
            ],
            [
             0.4,
             "#fde0ef"
            ],
            [
             0.5,
             "#f7f7f7"
            ],
            [
             0.6,
             "#e6f5d0"
            ],
            [
             0.7,
             "#b8e186"
            ],
            [
             0.8,
             "#7fbc41"
            ],
            [
             0.9,
             "#4d9221"
            ],
            [
             1,
             "#276419"
            ]
           ],
           "sequential": [
            [
             0,
             "#0d0887"
            ],
            [
             0.1111111111111111,
             "#46039f"
            ],
            [
             0.2222222222222222,
             "#7201a8"
            ],
            [
             0.3333333333333333,
             "#9c179e"
            ],
            [
             0.4444444444444444,
             "#bd3786"
            ],
            [
             0.5555555555555556,
             "#d8576b"
            ],
            [
             0.6666666666666666,
             "#ed7953"
            ],
            [
             0.7777777777777778,
             "#fb9f3a"
            ],
            [
             0.8888888888888888,
             "#fdca26"
            ],
            [
             1,
             "#f0f921"
            ]
           ],
           "sequentialminus": [
            [
             0,
             "#0d0887"
            ],
            [
             0.1111111111111111,
             "#46039f"
            ],
            [
             0.2222222222222222,
             "#7201a8"
            ],
            [
             0.3333333333333333,
             "#9c179e"
            ],
            [
             0.4444444444444444,
             "#bd3786"
            ],
            [
             0.5555555555555556,
             "#d8576b"
            ],
            [
             0.6666666666666666,
             "#ed7953"
            ],
            [
             0.7777777777777778,
             "#fb9f3a"
            ],
            [
             0.8888888888888888,
             "#fdca26"
            ],
            [
             1,
             "#f0f921"
            ]
           ]
          },
          "colorway": [
           "#636efa",
           "#EF553B",
           "#00cc96",
           "#ab63fa",
           "#FFA15A",
           "#19d3f3",
           "#FF6692",
           "#B6E880",
           "#FF97FF",
           "#FECB52"
          ],
          "font": {
           "color": "#2a3f5f"
          },
          "geo": {
           "bgcolor": "white",
           "lakecolor": "white",
           "landcolor": "#E5ECF6",
           "showlakes": true,
           "showland": true,
           "subunitcolor": "white"
          },
          "hoverlabel": {
           "align": "left"
          },
          "hovermode": "closest",
          "mapbox": {
           "style": "light"
          },
          "paper_bgcolor": "white",
          "plot_bgcolor": "#E5ECF6",
          "polar": {
           "angularaxis": {
            "gridcolor": "white",
            "linecolor": "white",
            "ticks": ""
           },
           "bgcolor": "#E5ECF6",
           "radialaxis": {
            "gridcolor": "white",
            "linecolor": "white",
            "ticks": ""
           }
          },
          "scene": {
           "xaxis": {
            "backgroundcolor": "#E5ECF6",
            "gridcolor": "white",
            "gridwidth": 2,
            "linecolor": "white",
            "showbackground": true,
            "ticks": "",
            "zerolinecolor": "white"
           },
           "yaxis": {
            "backgroundcolor": "#E5ECF6",
            "gridcolor": "white",
            "gridwidth": 2,
            "linecolor": "white",
            "showbackground": true,
            "ticks": "",
            "zerolinecolor": "white"
           },
           "zaxis": {
            "backgroundcolor": "#E5ECF6",
            "gridcolor": "white",
            "gridwidth": 2,
            "linecolor": "white",
            "showbackground": true,
            "ticks": "",
            "zerolinecolor": "white"
           }
          },
          "shapedefaults": {
           "line": {
            "color": "#2a3f5f"
           }
          },
          "ternary": {
           "aaxis": {
            "gridcolor": "white",
            "linecolor": "white",
            "ticks": ""
           },
           "baxis": {
            "gridcolor": "white",
            "linecolor": "white",
            "ticks": ""
           },
           "bgcolor": "#E5ECF6",
           "caxis": {
            "gridcolor": "white",
            "linecolor": "white",
            "ticks": ""
           }
          },
          "title": {
           "x": 0.05
          },
          "xaxis": {
           "automargin": true,
           "gridcolor": "white",
           "linecolor": "white",
           "ticks": "",
           "title": {
            "standoff": 15
           },
           "zerolinecolor": "white",
           "zerolinewidth": 2
          },
          "yaxis": {
           "automargin": true,
           "gridcolor": "white",
           "linecolor": "white",
           "ticks": "",
           "title": {
            "standoff": 15
           },
           "zerolinecolor": "white",
           "zerolinewidth": 2
          }
         }
        },
        "width": 600,
        "xaxis": {
         "anchor": "y",
         "autorange": true,
         "domain": [
          0,
          1
         ],
         "range": [
          -0.5,
          30.5
         ],
         "title": {
          "text": "x"
         },
         "type": "category"
        },
        "yaxis": {
         "anchor": "x",
         "autorange": true,
         "domain": [
          0,
          1
         ],
         "range": [
          -4.444444444444445,
          84.44444444444444
         ],
         "title": {
          "text": "y"
         },
         "type": "category"
        }
       }
      },
      "image/png": "[encoded data removed]",
      "text/html": [
       "<div>                            <div id=\"5367e56c-d5bd-4447-a202-f643fc4afb6d\" class=\"plotly-graph-div\" style=\"height:400px; width:600px;\"></div>            <script type=\"text/javascript\">                require([\"plotly\"], function(Plotly) {                    window.PLOTLYENV=window.PLOTLYENV || {};                                    if (document.getElementById(\"5367e56c-d5bd-4447-a202-f643fc4afb6d\")) {                    Plotly.newPlot(                        \"5367e56c-d5bd-4447-a202-f643fc4afb6d\",                        [{\"alignmentgroup\":\"True\",\"hovertemplate\":\"x=%{x}<br>y=%{y}<extra></extra>\",\"legendgroup\":\"\",\"marker\":{\"color\":\"#636efa\",\"pattern\":{\"shape\":\"\"}},\"name\":\"\",\"offsetgroup\":\"\",\"orientation\":\"v\",\"showlegend\":false,\"textposition\":\"auto\",\"x\":[\"    12,674\",\"     5,570\",\"     2,579\",\"    35,705\",\"   115,396\",\"    10,324\",\"       478\",\"     2,388\",\"   176,307\",\"    45,034\",\"     5,148\",\"    63,914\",\"    11,167\",\"    20,988\",\"    25,221\",\"     2,045\",\"       545\",\"     7,481\",\"     1,013\",\"    24,801\",\"       357\",\"     6,324\",\"     1,621\",\"     8,149\",\"    21,410\",\"         0\",\"    38,187\",\"     5,466\",\"   155,324\",\"     3,720\",\"         0\",\"    30,394\",\"         0\"],\"xaxis\":\"x\",\"y\":[\"    19,402\",\"     9,146\",\"     3,577\",\"    54,154\",\"   143,171\",\"    20,045\",\"     1,237\",\"     5,652\",\"   154,437\",\"    38,733\",\"     7,943\",\"    41,452\",\"    17,409\",\"    17,068\",\"    53,885\",\"    12,507\",\"       531\",\"    18,855\",\"       843\",\"    15,984\",\"       952\",\"    13,709\",\"     5,182\",\"     8,447\",\"    21,458\",\"         0\",\"    50,278\",\"    15,440\",\"   126,396\",\"     5,490\",\"       225\",\"    42,138\",\"         0\"],\"yaxis\":\"y\",\"type\":\"bar\"}],                        {\"template\":{\"data\":{\"histogram2dcontour\":[{\"type\":\"histogram2dcontour\",\"colorbar\":{\"outlinewidth\":0,\"ticks\":\"\"},\"colorscale\":[[0.0,\"#0d0887\"],[0.1111111111111111,\"#46039f\"],[0.2222222222222222,\"#7201a8\"],[0.3333333333333333,\"#9c179e\"],[0.4444444444444444,\"#bd3786\"],[0.5555555555555556,\"#d8576b\"],[0.6666666666666666,\"#ed7953\"],[0.7777777777777778,\"#fb9f3a\"],[0.8888888888888888,\"#fdca26\"],[1.0,\"#f0f921\"]]}],\"choropleth\":[{\"type\":\"choropleth\",\"colorbar\":{\"outlinewidth\":0,\"ticks\":\"\"}}],\"histogram2d\":[{\"type\":\"histogram2d\",\"colorbar\":{\"outlinewidth\":0,\"ticks\":\"\"},\"colorscale\":[[0.0,\"#0d0887\"],[0.1111111111111111,\"#46039f\"],[0.2222222222222222,\"#7201a8\"],[0.3333333333333333,\"#9c179e\"],[0.4444444444444444,\"#bd3786\"],[0.5555555555555556,\"#d8576b\"],[0.6666666666666666,\"#ed7953\"],[0.7777777777777778,\"#fb9f3a\"],[0.8888888888888888,\"#fdca26\"],[1.0,\"#f0f921\"]]}],\"heatmap\":[{\"type\":\"heatmap\",\"colorbar\":{\"outlinewidth\":0,\"ticks\":\"\"},\"colorscale\":[[0.0,\"#0d0887\"],[0.1111111111111111,\"#46039f\"],[0.2222222222222222,\"#7201a8\"],[0.3333333333333333,\"#9c179e\"],[0.4444444444444444,\"#bd3786\"],[0.5555555555555556,\"#d8576b\"],[0.6666666666666666,\"#ed7953\"],[0.7777777777777778,\"#fb9f3a\"],[0.8888888888888888,\"#fdca26\"],[1.0,\"#f0f921\"]]}],\"heatmapgl\":[{\"type\":\"heatmapgl\",\"colorbar\":{\"outlinewidth\":0,\"ticks\":\"\"},\"colorscale\":[[0.0,\"#0d0887\"],[0.1111111111111111,\"#46039f\"],[0.2222222222222222,\"#7201a8\"],[0.3333333333333333,\"#9c179e\"],[0.4444444444444444,\"#bd3786\"],[0.5555555555555556,\"#d8576b\"],[0.6666666666666666,\"#ed7953\"],[0.7777777777777778,\"#fb9f3a\"],[0.8888888888888888,\"#fdca26\"],[1.0,\"#f0f921\"]]}],\"contourcarpet\":[{\"type\":\"contourcarpet\",\"colorbar\":{\"outlinewidth\":0,\"ticks\":\"\"}}],\"contour\":[{\"type\":\"contour\",\"colorbar\":{\"outlinewidth\":0,\"ticks\":\"\"},\"colorscale\":[[0.0,\"#0d0887\"],[0.1111111111111111,\"#46039f\"],[0.2222222222222222,\"#7201a8\"],[0.3333333333333333,\"#9c179e\"],[0.4444444444444444,\"#bd3786\"],[0.5555555555555556,\"#d8576b\"],[0.6666666666666666,\"#ed7953\"],[0.7777777777777778,\"#fb9f3a\"],[0.8888888888888888,\"#fdca26\"],[1.0,\"#f0f921\"]]}],\"surface\":[{\"type\":\"surface\",\"colorbar\":{\"outlinewidth\":0,\"ticks\":\"\"},\"colorscale\":[[0.0,\"#0d0887\"],[0.1111111111111111,\"#46039f\"],[0.2222222222222222,\"#7201a8\"],[0.3333333333333333,\"#9c179e\"],[0.4444444444444444,\"#bd3786\"],[0.5555555555555556,\"#d8576b\"],[0.6666666666666666,\"#ed7953\"],[0.7777777777777778,\"#fb9f3a\"],[0.8888888888888888,\"#fdca26\"],[1.0,\"#f0f921\"]]}],\"mesh3d\":[{\"type\":\"mesh3d\",\"colorbar\":{\"outlinewidth\":0,\"ticks\":\"\"}}],\"scatter\":[{\"fillpattern\":{\"fillmode\":\"overlay\",\"size\":10,\"solidity\":0.2},\"type\":\"scatter\"}],\"parcoords\":[{\"type\":\"parcoords\",\"line\":{\"colorbar\":{\"outlinewidth\":0,\"ticks\":\"\"}}}],\"scatterpolargl\":[{\"type\":\"scatterpolargl\",\"marker\":{\"colorbar\":{\"outlinewidth\":0,\"ticks\":\"\"}}}],\"bar\":[{\"error_x\":{\"color\":\"#2a3f5f\"},\"error_y\":{\"color\":\"#2a3f5f\"},\"marker\":{\"line\":{\"color\":\"#E5ECF6\",\"width\":0.5},\"pattern\":{\"fillmode\":\"overlay\",\"size\":10,\"solidity\":0.2}},\"type\":\"bar\"}],\"scattergeo\":[{\"type\":\"scattergeo\",\"marker\":{\"colorbar\":{\"outlinewidth\":0,\"ticks\":\"\"}}}],\"scatterpolar\":[{\"type\":\"scatterpolar\",\"marker\":{\"colorbar\":{\"outlinewidth\":0,\"ticks\":\"\"}}}],\"histogram\":[{\"marker\":{\"pattern\":{\"fillmode\":\"overlay\",\"size\":10,\"solidity\":0.2}},\"type\":\"histogram\"}],\"scattergl\":[{\"type\":\"scattergl\",\"marker\":{\"colorbar\":{\"outlinewidth\":0,\"ticks\":\"\"}}}],\"scatter3d\":[{\"type\":\"scatter3d\",\"line\":{\"colorbar\":{\"outlinewidth\":0,\"ticks\":\"\"}},\"marker\":{\"colorbar\":{\"outlinewidth\":0,\"ticks\":\"\"}}}],\"scattermapbox\":[{\"type\":\"scattermapbox\",\"marker\":{\"colorbar\":{\"outlinewidth\":0,\"ticks\":\"\"}}}],\"scatterternary\":[{\"type\":\"scatterternary\",\"marker\":{\"colorbar\":{\"outlinewidth\":0,\"ticks\":\"\"}}}],\"scattercarpet\":[{\"type\":\"scattercarpet\",\"marker\":{\"colorbar\":{\"outlinewidth\":0,\"ticks\":\"\"}}}],\"carpet\":[{\"aaxis\":{\"endlinecolor\":\"#2a3f5f\",\"gridcolor\":\"white\",\"linecolor\":\"white\",\"minorgridcolor\":\"white\",\"startlinecolor\":\"#2a3f5f\"},\"baxis\":{\"endlinecolor\":\"#2a3f5f\",\"gridcolor\":\"white\",\"linecolor\":\"white\",\"minorgridcolor\":\"white\",\"startlinecolor\":\"#2a3f5f\"},\"type\":\"carpet\"}],\"table\":[{\"cells\":{\"fill\":{\"color\":\"#EBF0F8\"},\"line\":{\"color\":\"white\"}},\"header\":{\"fill\":{\"color\":\"#C8D4E3\"},\"line\":{\"color\":\"white\"}},\"type\":\"table\"}],\"barpolar\":[{\"marker\":{\"line\":{\"color\":\"#E5ECF6\",\"width\":0.5},\"pattern\":{\"fillmode\":\"overlay\",\"size\":10,\"solidity\":0.2}},\"type\":\"barpolar\"}],\"pie\":[{\"automargin\":true,\"type\":\"pie\"}]},\"layout\":{\"autotypenumbers\":\"strict\",\"colorway\":[\"#636efa\",\"#EF553B\",\"#00cc96\",\"#ab63fa\",\"#FFA15A\",\"#19d3f3\",\"#FF6692\",\"#B6E880\",\"#FF97FF\",\"#FECB52\"],\"font\":{\"color\":\"#2a3f5f\"},\"hovermode\":\"closest\",\"hoverlabel\":{\"align\":\"left\"},\"paper_bgcolor\":\"white\",\"plot_bgcolor\":\"#E5ECF6\",\"polar\":{\"bgcolor\":\"#E5ECF6\",\"angularaxis\":{\"gridcolor\":\"white\",\"linecolor\":\"white\",\"ticks\":\"\"},\"radialaxis\":{\"gridcolor\":\"white\",\"linecolor\":\"white\",\"ticks\":\"\"}},\"ternary\":{\"bgcolor\":\"#E5ECF6\",\"aaxis\":{\"gridcolor\":\"white\",\"linecolor\":\"white\",\"ticks\":\"\"},\"baxis\":{\"gridcolor\":\"white\",\"linecolor\":\"white\",\"ticks\":\"\"},\"caxis\":{\"gridcolor\":\"white\",\"linecolor\":\"white\",\"ticks\":\"\"}},\"coloraxis\":{\"colorbar\":{\"outlinewidth\":0,\"ticks\":\"\"}},\"colorscale\":{\"sequential\":[[0.0,\"#0d0887\"],[0.1111111111111111,\"#46039f\"],[0.2222222222222222,\"#7201a8\"],[0.3333333333333333,\"#9c179e\"],[0.4444444444444444,\"#bd3786\"],[0.5555555555555556,\"#d8576b\"],[0.6666666666666666,\"#ed7953\"],[0.7777777777777778,\"#fb9f3a\"],[0.8888888888888888,\"#fdca26\"],[1.0,\"#f0f921\"]],\"sequentialminus\":[[0.0,\"#0d0887\"],[0.1111111111111111,\"#46039f\"],[0.2222222222222222,\"#7201a8\"],[0.3333333333333333,\"#9c179e\"],[0.4444444444444444,\"#bd3786\"],[0.5555555555555556,\"#d8576b\"],[0.6666666666666666,\"#ed7953\"],[0.7777777777777778,\"#fb9f3a\"],[0.8888888888888888,\"#fdca26\"],[1.0,\"#f0f921\"]],\"diverging\":[[0,\"#8e0152\"],[0.1,\"#c51b7d\"],[0.2,\"#de77ae\"],[0.3,\"#f1b6da\"],[0.4,\"#fde0ef\"],[0.5,\"#f7f7f7\"],[0.6,\"#e6f5d0\"],[0.7,\"#b8e186\"],[0.8,\"#7fbc41\"],[0.9,\"#4d9221\"],[1,\"#276419\"]]},\"xaxis\":{\"gridcolor\":\"white\",\"linecolor\":\"white\",\"ticks\":\"\",\"title\":{\"standoff\":15},\"zerolinecolor\":\"white\",\"automargin\":true,\"zerolinewidth\":2},\"yaxis\":{\"gridcolor\":\"white\",\"linecolor\":\"white\",\"ticks\":\"\",\"title\":{\"standoff\":15},\"zerolinecolor\":\"white\",\"automargin\":true,\"zerolinewidth\":2},\"scene\":{\"xaxis\":{\"backgroundcolor\":\"#E5ECF6\",\"gridcolor\":\"white\",\"linecolor\":\"white\",\"showbackground\":true,\"ticks\":\"\",\"zerolinecolor\":\"white\",\"gridwidth\":2},\"yaxis\":{\"backgroundcolor\":\"#E5ECF6\",\"gridcolor\":\"white\",\"linecolor\":\"white\",\"showbackground\":true,\"ticks\":\"\",\"zerolinecolor\":\"white\",\"gridwidth\":2},\"zaxis\":{\"backgroundcolor\":\"#E5ECF6\",\"gridcolor\":\"white\",\"linecolor\":\"white\",\"showbackground\":true,\"ticks\":\"\",\"zerolinecolor\":\"white\",\"gridwidth\":2}},\"shapedefaults\":{\"line\":{\"color\":\"#2a3f5f\"}},\"annotationdefaults\":{\"arrowcolor\":\"#2a3f5f\",\"arrowhead\":0,\"arrowwidth\":1},\"geo\":{\"bgcolor\":\"white\",\"landcolor\":\"#E5ECF6\",\"subunitcolor\":\"white\",\"showland\":true,\"showlakes\":true,\"lakecolor\":\"white\"},\"title\":{\"x\":0.05},\"mapbox\":{\"style\":\"light\"}}},\"xaxis\":{\"anchor\":\"y\",\"domain\":[0.0,1.0],\"title\":{\"text\":\"x\"}},\"yaxis\":{\"anchor\":\"x\",\"domain\":[0.0,1.0],\"title\":{\"text\":\"y\"}},\"legend\":{\"tracegroupgap\":0},\"margin\":{\"t\":60},\"barmode\":\"relative\",\"height\":400,\"width\":600},                        {\"responsive\": true}                    ).then(function(){\n",
       "                            \n",
       "var gd = document.getElementById('5367e56c-d5bd-4447-a202-f643fc4afb6d');\n",
       "var x = new MutationObserver(function (mutations, observer) {{\n",
       "        var display = window.getComputedStyle(gd).display;\n",
       "        if (!display || display === 'none') {{\n",
       "            console.log([gd, 'removed!']);\n",
       "            Plotly.purge(gd);\n",
       "            observer.disconnect();\n",
       "        }}\n",
       "}});\n",
       "\n",
       "// Listen for the removal of the full notebook cells\n",
       "var notebookContainer = gd.closest('#notebook-container');\n",
       "if (notebookContainer) {{\n",
       "    x.observe(notebookContainer, {childList: true});\n",
       "}}\n",
       "\n",
       "// Listen for the clearing of the current output cell\n",
       "var outputEl = gd.closest('.output');\n",
       "if (outputEl) {{\n",
       "    x.observe(outputEl, {childList: true});\n",
       "}}\n",
       "\n",
       "                        })                };                });            </script>        </div>"
      ]
     },
     "metadata": {},
     "output_type": "display_data"
    }
   ],
   "source": [
    "grafico = px.bar(x = df66.select('1970-71').to_series(),\n",
    "                  y = df66.select('1975-76').to_series(),\n",
    "                  width=600, height=400\n",
    "                 )\n",
    "\n",
    "grafico.show()"
   ]
  },
  {
   "cell_type": "code",
   "execution_count": 40,
   "id": "81960229-d41c-4830-b06d-683b7a8fdbbd",
   "metadata": {
    "tags": []
   },
   "outputs": [
    {
     "name": "stdout",
     "output_type": "stream",
     "text": [
      "JupyterLab v3.6.1\n",
      "/home/pyuser/.venv/share/jupyter/labextensions\n",
      "        jupyterlab_pygments v0.2.2 \u001b[32menabled\u001b[0m \u001b[32mOK\u001b[0m (python, jupyterlab_pygments)\n",
      "        jupyterlab-plotly v5.13.1 \u001b[32menabled\u001b[0m \u001b[32mOK\u001b[0m\n",
      "\n"
     ]
    }
   ],
   "source": [
    "!jupyter labextension list"
   ]
  },
  {
   "cell_type": "code",
   "execution_count": 45,
   "id": "ef55a1ef-6ef9-4545-8587-234537812784",
   "metadata": {
    "tags": []
   },
   "outputs": [
    {
     "name": "stdout",
     "output_type": "stream",
     "text": [
      "Collecting jupyterlab-git\n",
      "  Downloading jupyterlab_git-0.41.0-py3-none-any.whl (1.3 MB)\n",
      "\u001b[2K     \u001b[90m━━━━━━━━━━━━━━━━━━━━━━━━━━━━━━━━━━━━━━━━\u001b[0m \u001b[32m1.3/1.3 MB\u001b[0m \u001b[31m10.0 MB/s\u001b[0m eta \u001b[36m0:00:00\u001b[0ma \u001b[36m0:00:01\u001b[0m\n",
      "\u001b[?25hCollecting nbdime~=3.1\n",
      "  Downloading nbdime-3.1.1-py2.py3-none-any.whl (5.3 MB)\n",
      "\u001b[2K     \u001b[90m━━━━━━━━━━━━━━━━━━━━━━━━━━━━━━━━━━━━━━━━\u001b[0m \u001b[32m5.3/5.3 MB\u001b[0m \u001b[31m2.6 MB/s\u001b[0m eta \u001b[36m0:00:00\u001b[0m00:01\u001b[0m00:01\u001b[0mm\n",
      "\u001b[?25hRequirement already satisfied: packaging in /home/pyuser/.venv/lib/python3.10/site-packages (from jupyterlab-git) (23.0)\n",
      "Requirement already satisfied: nbformat in /home/pyuser/.venv/lib/python3.10/site-packages (from jupyterlab-git) (5.7.3)\n",
      "Requirement already satisfied: traitlets~=5.0 in /home/pyuser/.venv/lib/python3.10/site-packages (from jupyterlab-git) (5.9.0)\n",
      "Requirement already satisfied: pexpect in /home/pyuser/.venv/lib/python3.10/site-packages (from jupyterlab-git) (4.8.0)\n",
      "Requirement already satisfied: jupyter-server<3,>=1.21.0 in /home/pyuser/.venv/lib/python3.10/site-packages (from jupyterlab-git) (2.4.0)\n",
      "Requirement already satisfied: argon2-cffi in /home/pyuser/.venv/lib/python3.10/site-packages (from jupyter-server<3,>=1.21.0->jupyterlab-git) (21.3.0)\n",
      "Requirement already satisfied: tornado>=6.2.0 in /home/pyuser/.venv/lib/python3.10/site-packages (from jupyter-server<3,>=1.21.0->jupyterlab-git) (6.2)\n",
      "Requirement already satisfied: anyio>=3.1.0 in /home/pyuser/.venv/lib/python3.10/site-packages (from jupyter-server<3,>=1.21.0->jupyterlab-git) (3.6.2)\n",
      "Requirement already satisfied: jupyter-events>=0.4.0 in /home/pyuser/.venv/lib/python3.10/site-packages (from jupyter-server<3,>=1.21.0->jupyterlab-git) (0.6.3)\n",
      "Requirement already satisfied: jinja2 in /home/pyuser/.venv/lib/python3.10/site-packages (from jupyter-server<3,>=1.21.0->jupyterlab-git) (3.1.2)\n",
      "Requirement already satisfied: terminado>=0.8.3 in /home/pyuser/.venv/lib/python3.10/site-packages (from jupyter-server<3,>=1.21.0->jupyterlab-git) (0.17.1)\n",
      "Requirement already satisfied: send2trash in /home/pyuser/.venv/lib/python3.10/site-packages (from jupyter-server<3,>=1.21.0->jupyterlab-git) (1.8.0)\n",
      "Requirement already satisfied: jupyter-core!=5.0.*,>=4.12 in /home/pyuser/.venv/lib/python3.10/site-packages (from jupyter-server<3,>=1.21.0->jupyterlab-git) (5.2.0)\n",
      "Requirement already satisfied: jupyter-client>=7.4.4 in /home/pyuser/.venv/lib/python3.10/site-packages (from jupyter-server<3,>=1.21.0->jupyterlab-git) (8.0.3)\n",
      "Requirement already satisfied: pyzmq>=24 in /home/pyuser/.venv/lib/python3.10/site-packages (from jupyter-server<3,>=1.21.0->jupyterlab-git) (25.0.1)\n",
      "Requirement already satisfied: websocket-client in /home/pyuser/.venv/lib/python3.10/site-packages (from jupyter-server<3,>=1.21.0->jupyterlab-git) (1.5.1)\n",
      "Requirement already satisfied: nbconvert>=6.4.4 in /home/pyuser/.venv/lib/python3.10/site-packages (from jupyter-server<3,>=1.21.0->jupyterlab-git) (7.2.9)\n",
      "Requirement already satisfied: jupyter-server-terminals in /home/pyuser/.venv/lib/python3.10/site-packages (from jupyter-server<3,>=1.21.0->jupyterlab-git) (0.4.4)\n",
      "Requirement already satisfied: prometheus-client in /home/pyuser/.venv/lib/python3.10/site-packages (from jupyter-server<3,>=1.21.0->jupyterlab-git) (0.16.0)\n",
      "Requirement already satisfied: requests in /home/pyuser/.venv/lib/python3.10/site-packages (from nbdime~=3.1->jupyterlab-git) (2.28.2)\n",
      "Collecting GitPython!=2.1.4,!=2.1.5,!=2.1.6\n",
      "  Downloading GitPython-3.1.31-py3-none-any.whl (184 kB)\n",
      "\u001b[2K     \u001b[90m━━━━━━━━━━━━━━━━━━━━━━━━━━━━━━━━━━━━━━\u001b[0m \u001b[32m184.3/184.3 kB\u001b[0m \u001b[31m10.4 MB/s\u001b[0m eta \u001b[36m0:00:00\u001b[0m\n",
      "\u001b[?25hRequirement already satisfied: pygments in /home/pyuser/.venv/lib/python3.10/site-packages (from nbdime~=3.1->jupyterlab-git) (2.14.0)\n",
      "Collecting jupyter-server-mathjax>=0.2.2\n",
      "  Downloading jupyter_server_mathjax-0.2.6-py3-none-any.whl (3.1 MB)\n",
      "\u001b[2K     \u001b[90m━━━━━━━━━━━━━━━━━━━━━━━━━━━━━━━━━━━━━━━━\u001b[0m \u001b[32m3.1/3.1 MB\u001b[0m \u001b[31m2.9 MB/s\u001b[0m eta \u001b[36m0:00:00\u001b[0m00:01\u001b[0m00:01\u001b[0mm\n",
      "\u001b[?25hCollecting colorama\n",
      "  Downloading colorama-0.4.6-py2.py3-none-any.whl (25 kB)\n",
      "Requirement already satisfied: fastjsonschema in /home/pyuser/.venv/lib/python3.10/site-packages (from nbformat->jupyterlab-git) (2.16.3)\n",
      "Requirement already satisfied: jsonschema>=2.6 in /home/pyuser/.venv/lib/python3.10/site-packages (from nbformat->jupyterlab-git) (4.17.3)\n",
      "Requirement already satisfied: ptyprocess>=0.5 in /home/pyuser/.venv/lib/python3.10/site-packages (from pexpect->jupyterlab-git) (0.7.0)\n",
      "Requirement already satisfied: sniffio>=1.1 in /home/pyuser/.venv/lib/python3.10/site-packages (from anyio>=3.1.0->jupyter-server<3,>=1.21.0->jupyterlab-git) (1.3.0)\n",
      "Requirement already satisfied: idna>=2.8 in /home/pyuser/.venv/lib/python3.10/site-packages (from anyio>=3.1.0->jupyter-server<3,>=1.21.0->jupyterlab-git) (3.4)\n",
      "Collecting gitdb<5,>=4.0.1\n",
      "  Downloading gitdb-4.0.10-py3-none-any.whl (62 kB)\n",
      "\u001b[2K     \u001b[90m━━━━━━━━━━━━━━━━━━━━━━━━━━━━━━━━━━━━━━━━\u001b[0m \u001b[32m62.7/62.7 kB\u001b[0m \u001b[31m9.7 MB/s\u001b[0m eta \u001b[36m0:00:00\u001b[0m\n",
      "\u001b[?25hRequirement already satisfied: MarkupSafe>=2.0 in /home/pyuser/.venv/lib/python3.10/site-packages (from jinja2->jupyter-server<3,>=1.21.0->jupyterlab-git) (2.1.2)\n",
      "Requirement already satisfied: attrs>=17.4.0 in /home/pyuser/.venv/lib/python3.10/site-packages (from jsonschema>=2.6->nbformat->jupyterlab-git) (22.2.0)\n",
      "Requirement already satisfied: pyrsistent!=0.17.0,!=0.17.1,!=0.17.2,>=0.14.0 in /home/pyuser/.venv/lib/python3.10/site-packages (from jsonschema>=2.6->nbformat->jupyterlab-git) (0.19.3)\n",
      "Requirement already satisfied: python-dateutil>=2.8.2 in /home/pyuser/.venv/lib/python3.10/site-packages (from jupyter-client>=7.4.4->jupyter-server<3,>=1.21.0->jupyterlab-git) (2.8.2)\n",
      "Requirement already satisfied: platformdirs>=2.5 in /home/pyuser/.venv/lib/python3.10/site-packages (from jupyter-core!=5.0.*,>=4.12->jupyter-server<3,>=1.21.0->jupyterlab-git) (3.1.1)\n",
      "Requirement already satisfied: pyyaml>=5.3 in /home/pyuser/.venv/lib/python3.10/site-packages (from jupyter-events>=0.4.0->jupyter-server<3,>=1.21.0->jupyterlab-git) (6.0)\n",
      "Requirement already satisfied: python-json-logger>=2.0.4 in /home/pyuser/.venv/lib/python3.10/site-packages (from jupyter-events>=0.4.0->jupyter-server<3,>=1.21.0->jupyterlab-git) (2.0.7)\n",
      "Requirement already satisfied: rfc3339-validator in /home/pyuser/.venv/lib/python3.10/site-packages (from jupyter-events>=0.4.0->jupyter-server<3,>=1.21.0->jupyterlab-git) (0.1.4)\n",
      "Requirement already satisfied: rfc3986-validator>=0.1.1 in /home/pyuser/.venv/lib/python3.10/site-packages (from jupyter-events>=0.4.0->jupyter-server<3,>=1.21.0->jupyterlab-git) (0.1.1)\n",
      "Requirement already satisfied: jupyterlab-pygments in /home/pyuser/.venv/lib/python3.10/site-packages (from nbconvert>=6.4.4->jupyter-server<3,>=1.21.0->jupyterlab-git) (0.2.2)\n",
      "Requirement already satisfied: pandocfilters>=1.4.1 in /home/pyuser/.venv/lib/python3.10/site-packages (from nbconvert>=6.4.4->jupyter-server<3,>=1.21.0->jupyterlab-git) (1.5.0)\n",
      "Requirement already satisfied: tinycss2 in /home/pyuser/.venv/lib/python3.10/site-packages (from nbconvert>=6.4.4->jupyter-server<3,>=1.21.0->jupyterlab-git) (1.2.1)\n",
      "Requirement already satisfied: mistune<3,>=2.0.3 in /home/pyuser/.venv/lib/python3.10/site-packages (from nbconvert>=6.4.4->jupyter-server<3,>=1.21.0->jupyterlab-git) (2.0.5)\n",
      "Requirement already satisfied: defusedxml in /home/pyuser/.venv/lib/python3.10/site-packages (from nbconvert>=6.4.4->jupyter-server<3,>=1.21.0->jupyterlab-git) (0.7.1)\n",
      "Requirement already satisfied: nbclient>=0.5.0 in /home/pyuser/.venv/lib/python3.10/site-packages (from nbconvert>=6.4.4->jupyter-server<3,>=1.21.0->jupyterlab-git) (0.7.2)\n",
      "Requirement already satisfied: bleach in /home/pyuser/.venv/lib/python3.10/site-packages (from nbconvert>=6.4.4->jupyter-server<3,>=1.21.0->jupyterlab-git) (6.0.0)\n",
      "Requirement already satisfied: beautifulsoup4 in /home/pyuser/.venv/lib/python3.10/site-packages (from nbconvert>=6.4.4->jupyter-server<3,>=1.21.0->jupyterlab-git) (4.11.2)\n",
      "Requirement already satisfied: argon2-cffi-bindings in /home/pyuser/.venv/lib/python3.10/site-packages (from argon2-cffi->jupyter-server<3,>=1.21.0->jupyterlab-git) (21.2.0)\n",
      "Requirement already satisfied: certifi>=2017.4.17 in /home/pyuser/.venv/lib/python3.10/site-packages (from requests->nbdime~=3.1->jupyterlab-git) (2022.12.7)\n",
      "Requirement already satisfied: charset-normalizer<4,>=2 in /home/pyuser/.venv/lib/python3.10/site-packages (from requests->nbdime~=3.1->jupyterlab-git) (3.1.0)\n",
      "Requirement already satisfied: urllib3<1.27,>=1.21.1 in /home/pyuser/.venv/lib/python3.10/site-packages (from requests->nbdime~=3.1->jupyterlab-git) (1.26.15)\n",
      "Collecting smmap<6,>=3.0.1\n",
      "  Downloading smmap-5.0.0-py3-none-any.whl (24 kB)\n",
      "Requirement already satisfied: jsonpointer>1.13 in /home/pyuser/.venv/lib/python3.10/site-packages (from jsonschema>=2.6->nbformat->jupyterlab-git) (2.3)\n",
      "Requirement already satisfied: isoduration in /home/pyuser/.venv/lib/python3.10/site-packages (from jsonschema>=2.6->nbformat->jupyterlab-git) (20.11.0)\n",
      "Requirement already satisfied: webcolors>=1.11 in /home/pyuser/.venv/lib/python3.10/site-packages (from jsonschema>=2.6->nbformat->jupyterlab-git) (1.12)\n",
      "Requirement already satisfied: fqdn in /home/pyuser/.venv/lib/python3.10/site-packages (from jsonschema>=2.6->nbformat->jupyterlab-git) (1.5.1)\n",
      "Requirement already satisfied: uri-template in /home/pyuser/.venv/lib/python3.10/site-packages (from jsonschema>=2.6->nbformat->jupyterlab-git) (1.2.0)\n",
      "Requirement already satisfied: six>=1.5 in /home/pyuser/.venv/lib/python3.10/site-packages (from python-dateutil>=2.8.2->jupyter-client>=7.4.4->jupyter-server<3,>=1.21.0->jupyterlab-git) (1.16.0)\n",
      "Requirement already satisfied: cffi>=1.0.1 in /home/pyuser/.venv/lib/python3.10/site-packages (from argon2-cffi-bindings->argon2-cffi->jupyter-server<3,>=1.21.0->jupyterlab-git) (1.15.1)\n",
      "Requirement already satisfied: soupsieve>1.2 in /home/pyuser/.venv/lib/python3.10/site-packages (from beautifulsoup4->nbconvert>=6.4.4->jupyter-server<3,>=1.21.0->jupyterlab-git) (2.4)\n",
      "Requirement already satisfied: webencodings in /home/pyuser/.venv/lib/python3.10/site-packages (from bleach->nbconvert>=6.4.4->jupyter-server<3,>=1.21.0->jupyterlab-git) (0.5.1)\n",
      "Requirement already satisfied: pycparser in /home/pyuser/.venv/lib/python3.10/site-packages (from cffi>=1.0.1->argon2-cffi-bindings->argon2-cffi->jupyter-server<3,>=1.21.0->jupyterlab-git) (2.21)\n",
      "Requirement already satisfied: arrow>=0.15.0 in /home/pyuser/.venv/lib/python3.10/site-packages (from isoduration->jsonschema>=2.6->nbformat->jupyterlab-git) (1.2.3)\n",
      "Installing collected packages: smmap, colorama, gitdb, GitPython, jupyter-server-mathjax, nbdime, jupyterlab-git\n",
      "Successfully installed GitPython-3.1.31 colorama-0.4.6 gitdb-4.0.10 jupyter-server-mathjax-0.2.6 jupyterlab-git-0.41.0 nbdime-3.1.1 smmap-5.0.0\n"
     ]
    }
   ],
   "source": [
    "!pip install jupyterlab-git"
   ]
  },
  {
   "cell_type": "code",
   "execution_count": 46,
   "id": "3f980651-7b77-44a3-b905-4a36946107c1",
   "metadata": {},
   "outputs": [
    {
     "name": "stdout",
     "output_type": "stream",
     "text": [
      "Config dir: /home/pyuser/.jupyter\n",
      "\n",
      "Config dir: /home/pyuser/.venv/etc/jupyter\n",
      "    jupyter_server_fileid \u001b[32menabled\u001b[0m\n",
      "    - Validating jupyter_server_fileid...\n",
      "Package jupyter_server_fileid took 0.0021s to import\n",
      "      jupyter_server_fileid 0.8.0 \u001b[32mOK\u001b[0m\n",
      "    jupyter_server_mathjax \u001b[32menabled\u001b[0m\n",
      "    - Validating jupyter_server_mathjax...\n",
      "Package jupyter_server_mathjax took 0.0008s to import\n",
      "      jupyter_server_mathjax  \u001b[32mOK\u001b[0m\n",
      "    jupyter_server_terminals \u001b[32menabled\u001b[0m\n",
      "    - Validating jupyter_server_terminals...\n",
      "Package jupyter_server_terminals took 0.0061s to import\n",
      "      jupyter_server_terminals 0.4.4 \u001b[32mOK\u001b[0m\n",
      "    jupyter_server_ydoc \u001b[32menabled\u001b[0m\n",
      "    - Validating jupyter_server_ydoc...\n",
      "Package jupyter_server_ydoc took 0.0151s to import\n",
      "      jupyter_server_ydoc 0.6.1 \u001b[32mOK\u001b[0m\n",
      "    jupyterlab \u001b[32menabled\u001b[0m\n",
      "    - Validating jupyterlab...\n",
      "Package jupyterlab took 0.0591s to import\n",
      "      jupyterlab 3.6.1 \u001b[32mOK\u001b[0m\n",
      "    jupyterlab_git \u001b[32menabled\u001b[0m\n",
      "    - Validating jupyterlab_git...\n",
      "Package jupyterlab_git took 0.0645s to import\n",
      "      jupyterlab_git 0.41.0 \u001b[32mOK\u001b[0m\n",
      "    nbclassic \u001b[32menabled\u001b[0m\n",
      "    - Validating nbclassic...\n",
      "Package nbclassic took 0.0000s to import\n",
      "A `_jupyter_server_extension_points` function was not found in nbclassic. Instead, a `_jupyter_server_extension_paths` function was found and will be used for now. This function name will be deprecated in future releases of Jupyter Server.\n",
      "      nbclassic 0.5.3 \u001b[32mOK\u001b[0m\n",
      "    nbdime \u001b[32menabled\u001b[0m\n",
      "    - Validating nbdime...\n",
      "Package nbdime took 0.0000s to import\n",
      "      nbdime 3.1.1 \u001b[32mOK\u001b[0m\n",
      "    notebook_shim \u001b[32menabled\u001b[0m\n",
      "    - Validating notebook_shim...\n",
      "Package notebook_shim took 0.0000s to import\n",
      "A `_jupyter_server_extension_points` function was not found in notebook_shim. Instead, a `_jupyter_server_extension_paths` function was found and will be used for now. This function name will be deprecated in future releases of Jupyter Server.\n",
      "      notebook_shim  \u001b[32mOK\u001b[0m\n",
      "\n",
      "Config dir: /usr/local/etc/jupyter\n",
      "\n"
     ]
    }
   ],
   "source": [
    "!jupyter server extension list"
   ]
  },
  {
   "cell_type": "code",
   "execution_count": 48,
   "id": "77aaa532-cdb2-477c-a483-f7ab4c3347f2",
   "metadata": {},
   "outputs": [
    {
     "name": "stdout",
     "output_type": "stream",
     "text": [
      "Package                  Version\n",
      "------------------------ ---------\n",
      "aiofiles                 22.1.0\n",
      "aiosqlite                0.18.0\n",
      "anyio                    3.6.2\n",
      "argon2-cffi              21.3.0\n",
      "argon2-cffi-bindings     21.2.0\n",
      "arrow                    1.2.3\n",
      "asttokens                2.2.1\n",
      "attrs                    22.2.0\n",
      "Babel                    2.12.1\n",
      "backcall                 0.2.0\n",
      "beautifulsoup4           4.11.2\n",
      "bleach                   6.0.0\n",
      "certifi                  2022.12.7\n",
      "cffi                     1.15.1\n",
      "charset-normalizer       3.1.0\n",
      "colorama                 0.4.6\n",
      "comm                     0.1.2\n",
      "contourpy                1.0.7\n",
      "cycler                   0.11.0\n",
      "debugpy                  1.6.6\n",
      "decorator                5.1.1\n",
      "defusedxml               0.7.1\n",
      "executing                1.2.0\n",
      "fastjsonschema           2.16.3\n",
      "fonttools                4.39.0\n",
      "fqdn                     1.5.1\n",
      "gitdb                    4.0.10\n",
      "GitPython                3.1.31\n",
      "idna                     3.4\n",
      "ipykernel                6.21.3\n",
      "ipython                  8.11.0\n",
      "ipython-genutils         0.2.0\n",
      "isoduration              20.11.0\n",
      "jedi                     0.18.2\n",
      "Jinja2                   3.1.2\n",
      "json5                    0.9.11\n",
      "jsonpointer              2.3\n",
      "jsonschema               4.17.3\n",
      "jupyter_client           8.0.3\n",
      "jupyter_core             5.2.0\n",
      "jupyter-events           0.6.3\n",
      "jupyter_server           2.4.0\n",
      "jupyter_server_fileid    0.8.0\n",
      "jupyter-server-mathjax   0.2.6\n",
      "jupyter_server_terminals 0.4.4\n",
      "jupyter_server_ydoc      0.6.1\n",
      "jupyter-ydoc             0.2.3\n",
      "jupyterlab               3.6.1\n",
      "jupyterlab-git           0.41.0\n",
      "jupyterlab-pygments      0.2.2\n",
      "jupyterlab_server        2.20.0\n",
      "kiwisolver               1.4.4\n",
      "MarkupSafe               2.1.2\n",
      "matplotlib               3.7.1\n",
      "matplotlib-inline        0.1.6\n",
      "mistune                  2.0.5\n",
      "nbclassic                0.5.3\n",
      "nbclient                 0.7.2\n",
      "nbconvert                7.2.9\n",
      "nbdime                   3.1.1\n",
      "nbformat                 5.7.3\n",
      "nest-asyncio             1.5.6\n",
      "notebook                 6.5.3\n",
      "notebook_shim            0.2.2\n",
      "numpy                    1.24.2\n",
      "packaging                23.0\n",
      "pandas                   1.5.3\n",
      "pandocfilters            1.5.0\n",
      "parso                    0.8.3\n",
      "pexpect                  4.8.0\n",
      "pickleshare              0.7.5\n",
      "Pillow                   9.4.0\n",
      "pip                      23.0.1\n",
      "platformdirs             3.1.1\n",
      "plotly                   5.13.1\n",
      "polars                   0.16.13\n",
      "prometheus-client        0.16.0\n",
      "prompt-toolkit           3.0.38\n",
      "psutil                   5.9.4\n",
      "ptyprocess               0.7.0\n",
      "pure-eval                0.2.2\n",
      "pycparser                2.21\n",
      "Pygments                 2.14.0\n",
      "pyparsing                3.0.9\n",
      "pyrsistent               0.19.3\n",
      "python-dateutil          2.8.2\n",
      "python-json-logger       2.0.7\n",
      "pytz                     2022.7.1\n",
      "PyYAML                   6.0\n",
      "pyzmq                    25.0.1\n",
      "requests                 2.28.2\n",
      "rfc3339-validator        0.1.4\n",
      "rfc3986-validator        0.1.1\n",
      "Send2Trash               1.8.0\n",
      "setuptools               65.5.0\n",
      "six                      1.16.0\n",
      "smmap                    5.0.0\n",
      "sniffio                  1.3.0\n",
      "soupsieve                2.4\n",
      "stack-data               0.6.2\n",
      "tenacity                 8.2.2\n",
      "terminado                0.17.1\n",
      "tinycss2                 1.2.1\n",
      "tomli                    2.0.1\n",
      "tornado                  6.2\n",
      "traitlets                5.9.0\n",
      "typing_extensions        4.5.0\n",
      "uri-template             1.2.0\n",
      "urllib3                  1.26.15\n",
      "wcwidth                  0.2.6\n",
      "webcolors                1.12\n",
      "webencodings             0.5.1\n",
      "websocket-client         1.5.1\n",
      "xlsx2csv                 0.8.1\n",
      "y-py                     0.5.9\n",
      "ypy-websocket            0.8.2\n"
     ]
    }
   ],
   "source": [
    "!pip list"
   ]
  },
  {
   "cell_type": "code",
   "execution_count": null,
   "id": "acb3bf00-9ffc-4e48-8be5-d3b507bb9f66",
   "metadata": {},
   "outputs": [],
   "source": []
  }
 ],
 "metadata": {
  "kernelspec": {
   "display_name": "Python 3 (ipykernel)",
   "language": "python",
   "name": "python3"
  },
  "language_info": {
   "codemirror_mode": {
    "name": "ipython",
    "version": 3
   },
   "file_extension": ".py",
   "mimetype": "text/x-python",
   "name": "python",
   "nbconvert_exporter": "python",
   "pygments_lexer": "ipython3",
   "version": "3.10.10"
  }
 },
 "nbformat": 4,
 "nbformat_minor": 5
}
